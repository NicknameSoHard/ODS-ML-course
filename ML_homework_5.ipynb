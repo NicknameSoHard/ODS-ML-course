{
  "nbformat": 4,
  "nbformat_minor": 0,
  "metadata": {
    "colab": {
      "name": "ML_homework_5.ipynb",
      "version": "0.3.2",
      "provenance": [],
      "collapsed_sections": [],
      "include_colab_link": true
    },
    "kernelspec": {
      "display_name": "Python 3",
      "language": "python",
      "name": "python3"
    },
    "accelerator": "GPU"
  },
  "cells": [
    {
      "cell_type": "markdown",
      "metadata": {
        "id": "view-in-github",
        "colab_type": "text"
      },
      "source": [
        "[View in Colaboratory](https://colab.research.google.com/github/NicknameSoHard/Open_course_ML/blob/master/ML_homework_5.ipynb)"
      ]
    },
    {
      "metadata": {
        "id": "Tji-tpazIEtz",
        "colab_type": "text"
      },
      "cell_type": "markdown",
      "source": [
        "**Это решение вышло совсем другим, а не как в примере, но выводы все совпали. Хотелось бы точнее посмотреть на ошибки.**"
      ]
    },
    {
      "metadata": {
        "id": "KLMKFxypFwYw",
        "colab_type": "text"
      },
      "cell_type": "markdown",
      "source": [
        "**Задание 1.** В зале суда есть 5 присяжных, каждый из них по отдельности с вероятностью 70% может правильно определить, виновен подсудимый или нет. С какой вероятностью они все вместе вынесут правильный вердикт, если решение принимается большинством голосов?\n",
        "\n",
        "*   70.00%\n",
        "*   83.20% \n",
        "*   **83.70% **\n",
        "*   87.50% \n"
      ]
    },
    {
      "metadata": {
        "id": "r2t4e90SJC_S",
        "colab_type": "text"
      },
      "cell_type": "markdown",
      "source": [
        "![alt text](https://pp.userapi.com/c824202/v824202942/191b5e/rg2WR7TDlqw.jpg)"
      ]
    },
    {
      "metadata": {
        "id": "RezUxseGI52I",
        "colab_type": "code",
        "colab": {
          "base_uri": "https://localhost:8080/",
          "height": 34
        },
        "outputId": "beeff579-a056-4852-bee5-6f0c0f08ba23"
      },
      "cell_type": "code",
      "source": [
        "from math import factorial\n",
        "\n",
        "def Combination_func(n, k):\n",
        "  return factorial(n) / ( factorial(k) * factorial( n - k ) )\n",
        "\n",
        "N = 5\n",
        "p = 0.7\n",
        "m = int(N/2) + 1\n",
        "result = 0\n",
        "\n",
        "for i in range(m, N+1):\n",
        "  result += Combination_func(N, i) * p**i * (1-p)**(N-i)\n",
        "  \n",
        "print(result)"
      ],
      "execution_count": 1,
      "outputs": [
        {
          "output_type": "stream",
          "text": [
            "0.8369199999999999\n"
          ],
          "name": "stdout"
        }
      ]
    },
    {
      "metadata": {
        "id": "Ujp0_g9kWAIu",
        "colab_type": "code",
        "colab": {
          "base_uri": "https://localhost:8080/",
          "height": 224
        },
        "outputId": "c7658252-83a8-4378-8739-58195fa16499"
      },
      "cell_type": "code",
      "source": [
        "!wget https://raw.githubusercontent.com/Yorko/mlcourse_open/master/data/credit_scoring_sample.csv -P drive/Open_course_ML  "
      ],
      "execution_count": 2,
      "outputs": [
        {
          "output_type": "stream",
          "text": [
            "--2018-07-29 15:06:24--  https://raw.githubusercontent.com/Yorko/mlcourse_open/master/data/credit_scoring_sample.csv\r\n",
            "Resolving raw.githubusercontent.com (raw.githubusercontent.com)... 151.101.0.133, 151.101.64.133, 151.101.128.133, ...\n",
            "Connecting to raw.githubusercontent.com (raw.githubusercontent.com)|151.101.0.133|:443... connected.\n",
            "HTTP request sent, awaiting response... 200 OK\n",
            "Length: 1812928 (1.7M) [text/plain]\n",
            "Saving to: ‘drive/Open_course_ML/credit_scoring_sample.csv’\n",
            "\n",
            "credit_scoring_samp 100%[===================>]   1.73M  11.1MB/s    in 0.2s    \n",
            "\n",
            "2018-07-29 15:06:25 (11.1 MB/s) - ‘drive/Open_course_ML/credit_scoring_sample.csv’ saved [1812928/1812928]\n",
            "\n"
          ],
          "name": "stdout"
        }
      ]
    },
    {
      "metadata": {
        "id": "xpTUJYR-ANKW",
        "colab_type": "code",
        "colab": {
          "base_uri": "https://localhost:8080/",
          "height": 241
        },
        "outputId": "3249611c-0b2f-4915-fdf5-c85334b5a2cd"
      },
      "cell_type": "code",
      "source": [
        "%matplotlib inline\n",
        "import matplotlib.pyplot as plt\n",
        "import seaborn as sns\n",
        "# отключим предупреждения Anaconda\n",
        "import warnings\n",
        "warnings.filterwarnings('ignore')\n",
        "import pandas as pd\n",
        "import numpy as np\n",
        "\n",
        "## Считываем данные\n",
        "data = pd.read_csv('drive/Open_course_ML/credit_scoring_sample.csv', sep =';')\n",
        "data.head()"
      ],
      "execution_count": 3,
      "outputs": [
        {
          "output_type": "execute_result",
          "data": {
            "text/html": [
              "<div>\n",
              "<style scoped>\n",
              "    .dataframe tbody tr th:only-of-type {\n",
              "        vertical-align: middle;\n",
              "    }\n",
              "\n",
              "    .dataframe tbody tr th {\n",
              "        vertical-align: top;\n",
              "    }\n",
              "\n",
              "    .dataframe thead th {\n",
              "        text-align: right;\n",
              "    }\n",
              "</style>\n",
              "<table border=\"1\" class=\"dataframe\">\n",
              "  <thead>\n",
              "    <tr style=\"text-align: right;\">\n",
              "      <th></th>\n",
              "      <th>SeriousDlqin2yrs</th>\n",
              "      <th>age</th>\n",
              "      <th>NumberOfTime30-59DaysPastDueNotWorse</th>\n",
              "      <th>DebtRatio</th>\n",
              "      <th>NumberOfTimes90DaysLate</th>\n",
              "      <th>NumberOfTime60-89DaysPastDueNotWorse</th>\n",
              "      <th>MonthlyIncome</th>\n",
              "      <th>NumberOfDependents</th>\n",
              "    </tr>\n",
              "  </thead>\n",
              "  <tbody>\n",
              "    <tr>\n",
              "      <th>0</th>\n",
              "      <td>0</td>\n",
              "      <td>64</td>\n",
              "      <td>0</td>\n",
              "      <td>0.249908</td>\n",
              "      <td>0</td>\n",
              "      <td>0</td>\n",
              "      <td>8158.0</td>\n",
              "      <td>0.0</td>\n",
              "    </tr>\n",
              "    <tr>\n",
              "      <th>1</th>\n",
              "      <td>0</td>\n",
              "      <td>58</td>\n",
              "      <td>0</td>\n",
              "      <td>3870.000000</td>\n",
              "      <td>0</td>\n",
              "      <td>0</td>\n",
              "      <td>NaN</td>\n",
              "      <td>0.0</td>\n",
              "    </tr>\n",
              "    <tr>\n",
              "      <th>2</th>\n",
              "      <td>0</td>\n",
              "      <td>41</td>\n",
              "      <td>0</td>\n",
              "      <td>0.456127</td>\n",
              "      <td>0</td>\n",
              "      <td>0</td>\n",
              "      <td>6666.0</td>\n",
              "      <td>0.0</td>\n",
              "    </tr>\n",
              "    <tr>\n",
              "      <th>3</th>\n",
              "      <td>0</td>\n",
              "      <td>43</td>\n",
              "      <td>0</td>\n",
              "      <td>0.000190</td>\n",
              "      <td>0</td>\n",
              "      <td>0</td>\n",
              "      <td>10500.0</td>\n",
              "      <td>2.0</td>\n",
              "    </tr>\n",
              "    <tr>\n",
              "      <th>4</th>\n",
              "      <td>1</td>\n",
              "      <td>49</td>\n",
              "      <td>0</td>\n",
              "      <td>0.271820</td>\n",
              "      <td>0</td>\n",
              "      <td>0</td>\n",
              "      <td>400.0</td>\n",
              "      <td>0.0</td>\n",
              "    </tr>\n",
              "  </tbody>\n",
              "</table>\n",
              "</div>"
            ],
            "text/plain": [
              "   SeriousDlqin2yrs  age  NumberOfTime30-59DaysPastDueNotWorse    DebtRatio  \\\n",
              "0                 0   64                                     0     0.249908   \n",
              "1                 0   58                                     0  3870.000000   \n",
              "2                 0   41                                     0     0.456127   \n",
              "3                 0   43                                     0     0.000190   \n",
              "4                 1   49                                     0     0.271820   \n",
              "\n",
              "   NumberOfTimes90DaysLate  NumberOfTime60-89DaysPastDueNotWorse  \\\n",
              "0                        0                                     0   \n",
              "1                        0                                     0   \n",
              "2                        0                                     0   \n",
              "3                        0                                     0   \n",
              "4                        0                                     0   \n",
              "\n",
              "   MonthlyIncome  NumberOfDependents  \n",
              "0         8158.0                 0.0  \n",
              "1            NaN                 0.0  \n",
              "2         6666.0                 0.0  \n",
              "3        10500.0                 2.0  \n",
              "4          400.0                 0.0  "
            ]
          },
          "metadata": {
            "tags": []
          },
          "execution_count": 3
        }
      ]
    },
    {
      "metadata": {
        "id": "2_QEp9uvANKg",
        "colab_type": "code",
        "colab": {
          "base_uri": "https://localhost:8080/",
          "height": 362
        },
        "outputId": "91d0d403-d78d-4f8d-8b90-3c2a467c57be"
      },
      "cell_type": "code",
      "source": [
        "## Посмотрим на распределение классов в зависимой переменной\n",
        "\n",
        "ax =data['SeriousDlqin2yrs'].hist(orientation='horizontal', color='red')\n",
        "ax.set_xlabel(\"number_of_observations\")\n",
        "ax.set_ylabel(\"unique_value\")\n",
        "ax.set_title(\"Target distribution\")\n",
        "\n",
        "print('Distribution of target')\n",
        "data['SeriousDlqin2yrs'].value_counts()/data.shape[0]"
      ],
      "execution_count": 4,
      "outputs": [
        {
          "output_type": "stream",
          "text": [
            "Distribution of target\n"
          ],
          "name": "stdout"
        },
        {
          "output_type": "execute_result",
          "data": {
            "text/plain": [
              "0    0.777511\n",
              "1    0.222489\n",
              "Name: SeriousDlqin2yrs, dtype: float64"
            ]
          },
          "metadata": {
            "tags": []
          },
          "execution_count": 4
        },
        {
          "output_type": "display_data",
          "data": {
            "image/png": "[encoded data removed]",
            "text/plain": [
              "<matplotlib.figure.Figure at 0x7fa358134240>"
            ]
          },
          "metadata": {
            "tags": []
          }
        }
      ]
    },
    {
      "metadata": {
        "id": "jmHi4IKFANKk",
        "colab_type": "code",
        "colab": {}
      },
      "cell_type": "code",
      "source": [
        "## Выберем названия всех признаков из таблицы, кроме прогнозируемого\n",
        "\n",
        "independent_columns_names = data.columns.values\n",
        "independent_columns_names = [x for x in data if x != 'SeriousDlqin2yrs']\n",
        "\n",
        "## Сделаем функцию, которая будет заменять NaN значения на медиану в каждом столбце таблицы \n",
        "def delete_nan(table):\n",
        "    for col in table.columns:\n",
        "        table[col]= table[col].fillna(table[col].median())\n",
        "    return table   \n",
        "  \n",
        "table = delete_nan(data)\n",
        "\n",
        "## Разделяем таргет и признаки \n",
        "X = table[independent_columns_names]\n",
        "y = table['SeriousDlqin2yrs']"
      ],
      "execution_count": 0,
      "outputs": []
    },
    {
      "metadata": {
        "id": "XQjTCkFSANKx",
        "colab_type": "text"
      },
      "cell_type": "markdown",
      "source": [
        "# Бутстрэп"
      ]
    },
    {
      "metadata": {
        "id": "Ml_vY8TPANKx",
        "colab_type": "text"
      },
      "cell_type": "markdown",
      "source": [
        "**Задание 2.** Сделайте интервальную оценку среднего возраста (age) для клиентов, которые просрочили выплату кредита, с 90% \"уверенностью\". Используйте пример из статьи, поставьте np.random.seed(0), как это сделано в статье."
      ]
    },
    {
      "metadata": {
        "id": "cmppW4NiANKy",
        "colab_type": "code",
        "colab": {
          "base_uri": "https://localhost:8080/",
          "height": 34
        },
        "outputId": "015e8de0-66b6-4043-957d-9b10e26cdbb3"
      },
      "cell_type": "code",
      "source": [
        "def get_random_intervals(data_values, numbers_of_sets ):\n",
        "  size = (numbers_of_sets, len(data_values))\n",
        "  random_indexes = np.random.randint(0, len(data_values), size=size ) \n",
        "  return data_values[ random_indexes ]\n",
        "\n",
        "def count_percentile( data_values, q ):\n",
        "  return np.percentile(data_values, [100 * q / 2., 100 * (1 - q / 2.)])\n",
        "\n",
        "\n",
        "np.random.seed(0)\n",
        "\n",
        "values_age_not_paid = table[ table['SeriousDlqin2yrs'] == 1 ]['age'].values\n",
        "\n",
        "scores_age_not_paid = [ np.mean(percentile) \n",
        "                            for percentile in get_random_intervals( values_age_not_paid, 1000 ) ]\n",
        "\n",
        "print(\"Age that not paid: mean intervals\",  count_percentile( scores_age_not_paid, 0.1 ) )"
      ],
      "execution_count": 6,
      "outputs": [
        {
          "output_type": "stream",
          "text": [
            "Age that not paid: mean intervals [45.71379414 46.12700479]\n"
          ],
          "name": "stdout"
        }
      ]
    },
    {
      "metadata": {
        "id": "VDh4lJChANK4",
        "colab_type": "text"
      },
      "cell_type": "markdown",
      "source": [
        "## Подбор параметров для модели логистической регрессии"
      ]
    },
    {
      "metadata": {
        "id": "Z7w7pJ5ZANK5",
        "colab_type": "text"
      },
      "cell_type": "markdown",
      "source": [
        "#### Одной из важных метрик качества модели является значение площади под ROC-кривой. Значение ROC-AUC лежит от 0 до 1. Чем ближе начение метрики ROC-AUC к 1, тем качественнее происходит классификация моделью."
      ]
    },
    {
      "metadata": {
        "id": "2YlXsQqtANK6",
        "colab_type": "code",
        "colab": {}
      },
      "cell_type": "code",
      "source": [
        "from sklearn.linear_model import LogisticRegression\n",
        "from sklearn.model_selection import GridSearchCV, StratifiedKFold\n",
        "\n",
        "## Используем модуль LogisticRegression для построения логистической регрессии.\n",
        "## Из-за несбалансированности классов  в таргете добавляем параметр балансировки.\n",
        "## Используем также параметр random_state=5 для воспроизводимости результатов\n",
        "lr = LogisticRegression(random_state=5, class_weight= 'balanced')\n",
        "\n",
        "## Попробуем подобрать лучший коэффициент регуляризации (коэффициент C в логистической регрессии) для модели лог.регрессии.\n",
        "## Этот параметр необходим для того, чтобы подобрать оптимальную модель, которая\n",
        "## не будет переобучена, с одной стороны, и будет хорошо предсказывать значения таргета, с другой.\n",
        "## Остальные параметры оставляем по умолчанию.\n",
        "parameters = {'C': (0.0001, 0.001, 0.01, 0.1, 1, 10)}\n",
        "\n",
        "## Для того, чтобы подобрать коэффициент регуляризации, попробуем для каждого его возможного значения посмотреть \n",
        "## значения roc-auc на стрэтифайд кросс-валидации из 5 фолдов с помощью функции StratifiedKFold\n",
        "\n",
        "skf = StratifiedKFold(n_splits=5, shuffle=True, random_state=5)"
      ],
      "execution_count": 0,
      "outputs": []
    },
    {
      "metadata": {
        "id": "WrhNfby4ANK-",
        "colab_type": "text"
      },
      "cell_type": "markdown",
      "source": [
        "**Задание 3.**\n",
        "Сделайте GridSearch с метрикой \"roc-auc\" по параметру C. Какое оптимальное значение параметра С?"
      ]
    },
    {
      "metadata": {
        "id": "Wwee1DvbANK_",
        "colab_type": "code",
        "colab": {
          "base_uri": "https://localhost:8080/",
          "height": 34
        },
        "outputId": "8305c735-8abe-407e-f032-46d3afb30141"
      },
      "cell_type": "code",
      "source": [
        "best_roc_logreg = GridSearchCV(lr, parameters,  n_jobs=-1, scoring='roc_auc', cv=skf )\n",
        "best_roc_logreg.fit(X,y)\n",
        "best_roc_logreg.best_params_"
      ],
      "execution_count": 8,
      "outputs": [
        {
          "output_type": "execute_result",
          "data": {
            "text/plain": [
              "{'C': 0.001}"
            ]
          },
          "metadata": {
            "tags": []
          },
          "execution_count": 8
        }
      ]
    },
    {
      "metadata": {
        "id": "9wksCBz5ANLE",
        "colab_type": "text"
      },
      "cell_type": "markdown",
      "source": [
        "**Задание 4.** \n",
        " Можно ли считать лучшую модель устойчивой? (модель считаем устойчивой, если стандартное отклонение на валидации меньше 0.5%) Сохраните точность лучшей модели, она вам приходится для следующих заданий"
      ]
    },
    {
      "metadata": {
        "id": "7QvJC1kSZq0-",
        "colab_type": "code",
        "colab": {
          "base_uri": "https://localhost:8080/",
          "height": 51
        },
        "outputId": "c65b4378-4b62-4398-e925-03eaacec794f"
      },
      "cell_type": "code",
      "source": [
        "best_roc_logreg.cv_results_['std_test_score']"
      ],
      "execution_count": 9,
      "outputs": [
        {
          "output_type": "execute_result",
          "data": {
            "text/plain": [
              "array([0.00531169, 0.00635747, 0.008183  , 0.00826878, 0.00832309,\n",
              "       0.00832973])"
            ]
          },
          "metadata": {
            "tags": []
          },
          "execution_count": 9
        }
      ]
    },
    {
      "metadata": {
        "id": "Lnx8TqRZANLF",
        "colab_type": "code",
        "colab": {
          "base_uri": "https://localhost:8080/",
          "height": 34
        },
        "outputId": "89b24a14-d3b4-4270-caa7-901389ee299e"
      },
      "cell_type": "code",
      "source": [
        "from sklearn.metrics import accuracy_score\n",
        "\n",
        "logreg_accuracy = best_roc_logreg.best_score_\n",
        "logreg_accuracy"
      ],
      "execution_count": 10,
      "outputs": [
        {
          "output_type": "execute_result",
          "data": {
            "text/plain": [
              "0.795409411236062"
            ]
          },
          "metadata": {
            "tags": []
          },
          "execution_count": 10
        }
      ]
    },
    {
      "metadata": {
        "id": "3exnj0maANLH",
        "colab_type": "text"
      },
      "cell_type": "markdown",
      "source": [
        "## Определение влияния признаков"
      ]
    },
    {
      "metadata": {
        "id": "dIiB3HvpANLI",
        "colab_type": "text"
      },
      "cell_type": "markdown",
      "source": [
        "**Задание 5.**\n",
        "Определите самый важный признак. Важность признака определяется абсолютным значением его коэффициента. Так же нужно нормализировать все признаки, что бы можно их было корректно сравнить."
      ]
    },
    {
      "metadata": {
        "id": "izy2jcVyANLJ",
        "colab_type": "code",
        "colab": {
          "base_uri": "https://localhost:8080/",
          "height": 136
        },
        "outputId": "333a4ba2-0c7b-404a-86a3-b8e4da5fa575"
      },
      "cell_type": "code",
      "source": [
        "lr = LogisticRegression(random_state=5, class_weight= 'balanced', C = 0.001)\n",
        "lr.fit(X,y)\n",
        "\n",
        "value_coefficient = lr.coef_ \n",
        "\n",
        "attribute = dict()\n",
        "i = 0\n",
        "for name in X.columns.values:\n",
        "  attribute.update( {name : np.linalg.norm(value_coefficient[0][i]) })\n",
        "  i+=1\n",
        "\n",
        "sorted_dict_keys = sorted( attribute, key = attribute.get )[::-1]\n",
        "for key in sorted_dict_keys:\n",
        "  print(key, attribute[key])"
      ],
      "execution_count": 11,
      "outputs": [
        {
          "output_type": "stream",
          "text": [
            "NumberOfTime30-59DaysPastDueNotWorse 0.48234922954301296\n",
            "NumberOfTimes90DaysLate 0.4303141594500768\n",
            "NumberOfDependents 0.11535624357879255\n",
            "NumberOfTime60-89DaysPastDueNotWorse 0.06595786075660731\n",
            "age 0.018185281632325617\n",
            "MonthlyIncome 1.1447658180792683e-05\n",
            "DebtRatio 1.0798311574956725e-05\n"
          ],
          "name": "stdout"
        }
      ]
    },
    {
      "metadata": {
        "id": "PBu9Zwuwb0g5",
        "colab_type": "text"
      },
      "cell_type": "markdown",
      "source": [
        "Наиболее важен: **NumberOfTime30-59DaysPastDueNotWorse**"
      ]
    },
    {
      "metadata": {
        "id": "ZPaj36weANLM",
        "colab_type": "text"
      },
      "cell_type": "markdown",
      "source": [
        "**Задание  6.** Посчитайте долю влияния DebtRatio на предсказание. (Воспользуйтесь функцией [softmax](https://en.wikipedia.org/wiki/Softmax_function))"
      ]
    },
    {
      "metadata": {
        "id": "fFubmZj-ANLN",
        "colab_type": "code",
        "colab": {
          "base_uri": "https://localhost:8080/",
          "height": 136
        },
        "outputId": "c5a4a78a-6615-4661-9439-d767af2bfa54"
      },
      "cell_type": "code",
      "source": [
        "def cout_softmax_attribute(x):\n",
        "  exp = np.exp(x)\n",
        "  return exp / np.sum( exp )\n",
        "\n",
        "softmax_attribute = cout_softmax_attribute( list( attribute.values() ) )\n",
        "\n",
        "i=0\n",
        "for keys in list(attribute.keys()):\n",
        "  print(keys,softmax_attribute[i])\n",
        "  i+=1"
      ],
      "execution_count": 12,
      "outputs": [
        {
          "output_type": "stream",
          "text": [
            "age 0.1217185647583706\n",
            "NumberOfTime30-59DaysPastDueNotWorse 0.19361574161507142\n",
            "DebtRatio 0.11952637404202986\n",
            "NumberOfTimes90DaysLate 0.1837985666445384\n",
            "NumberOfTime60-89DaysPastDueNotWorse 0.12767450720252946\n",
            "MonthlyIncome 0.11952645165610033\n",
            "NumberOfDependents 0.13413979408135984\n"
          ],
          "name": "stdout"
        }
      ]
    },
    {
      "metadata": {
        "id": "_M95CnIQANLQ",
        "colab_type": "text"
      },
      "cell_type": "markdown",
      "source": [
        "**Задание 7.** \n",
        "Давайте посмотрим как можно интерпретировать влияние наших признаков. Для этого заного оценим логистическую регрессию в абсолютных величинах. После этого посчитайте во сколько раз увеличатся шансы, что клиент не выплатит кредит, если увеличить возраст на 20 лет при всех остальных равных значениях признаков. (теоретический расчет можно посмотреть [здесь](https://www.unm.edu/~schrader/biostat/bio2/Spr06/lec11.pdf))"
      ]
    },
    {
      "metadata": {
        "id": "gDdKd2qiBn9w",
        "colab_type": "code",
        "colab": {
          "base_uri": "https://localhost:8080/",
          "height": 34
        },
        "outputId": "9c4cad07-368e-479a-c92d-437eae3e6eb2"
      },
      "cell_type": "code",
      "source": [
        "np.exp(value_coefficient[0][0]*20)"
      ],
      "execution_count": 13,
      "outputs": [
        {
          "output_type": "execute_result",
          "data": {
            "text/plain": [
              "0.6950957781347274"
            ]
          },
          "metadata": {
            "tags": []
          },
          "execution_count": 13
        }
      ]
    },
    {
      "metadata": {
        "id": "9ex7a8o0ANLV",
        "colab_type": "text"
      },
      "cell_type": "markdown",
      "source": [
        "# Случайный лес"
      ]
    },
    {
      "metadata": {
        "id": "tBbG0xf9ANLV",
        "colab_type": "code",
        "colab": {}
      },
      "cell_type": "code",
      "source": [
        "from sklearn.ensemble import RandomForestClassifier\n",
        "\n",
        "# Инициализируем случайный лес с 100 деревьями и сбалансированными классами \n",
        "rf = RandomForestClassifier(n_estimators=100, n_jobs=-1, \n",
        "                            random_state=42, oob_score=True, \n",
        "                            class_weight='balanced')\n",
        "\n",
        "## Будем искать лучшие параметры среди следующего набора\n",
        "parameters = {'max_features': [1, 2, 4], \n",
        "              'min_samples_leaf': [3, 5, 7, 9], \n",
        "              'max_depth': [5,10,15]}\n",
        "\n",
        "## Делаем опять же стрэтифайд k-fold валидацию. Инициализация которой должна у вас продолжать храниться в skf"
      ],
      "execution_count": 0,
      "outputs": []
    },
    {
      "metadata": {
        "id": "MQnF2CLOANLY",
        "colab_type": "text"
      },
      "cell_type": "markdown",
      "source": [
        "**Задание  8.**  На сколько точность лучшей модели случайного леса выше точности логистической регрессии на валидации?"
      ]
    },
    {
      "metadata": {
        "id": "dgbBgoKheOKH",
        "colab_type": "code",
        "colab": {}
      },
      "cell_type": "code",
      "source": [
        "best_param_rf = GridSearchCV(rf, parameters, n_jobs=-1, \n",
        "                              scoring ='roc_auc', cv=skf)\n",
        "best_param_rf.fit(X,y)\n",
        "\n",
        "random_forest_accuracy = best_param_rf.best_score_"
      ],
      "execution_count": 0,
      "outputs": []
    },
    {
      "metadata": {
        "id": "acXQ786zW9mB",
        "colab_type": "code",
        "colab": {
          "base_uri": "https://localhost:8080/",
          "height": 34
        },
        "outputId": "a6d0b0d3-8f9e-428f-9679-2b36971ba5d7"
      },
      "cell_type": "code",
      "source": [
        "(random_forest_accuracy - logreg_accuracy)*100"
      ],
      "execution_count": 22,
      "outputs": [
        {
          "output_type": "execute_result",
          "data": {
            "text/plain": [
              "4.0"
            ]
          },
          "metadata": {
            "tags": []
          },
          "execution_count": 22
        }
      ]
    },
    {
      "metadata": {
        "id": "5ZcydicaANLc",
        "colab_type": "text"
      },
      "cell_type": "markdown",
      "source": [
        "**Задание  9.** Определите какой признак имеет самое слабое влияние."
      ]
    },
    {
      "metadata": {
        "id": "E2ydzw_GANLc",
        "colab_type": "code",
        "colab": {
          "base_uri": "https://localhost:8080/",
          "height": 136
        },
        "outputId": "b0229d57-d11b-428f-cfd3-09abacf803b3"
      },
      "cell_type": "code",
      "source": [
        "rf = RandomForestClassifier(n_estimators=100, n_jobs=-1, \n",
        "                            random_state=42, oob_score=True, \n",
        "                            class_weight='balanced',\n",
        "                           max_depth=10, max_features=2, min_samples_leaf=9)\n",
        "rf.fit(X,y)\n",
        "importances = rf.feature_importances_\n",
        "\n",
        "attribute = dict()\n",
        "i=0\n",
        "for name in X.columns.values:\n",
        "  attribute.update( {name : np.linalg.norm(importances[i]) })\n",
        "  i+=1\n",
        "  \n",
        "sorted_dict_keys = sorted( attribute, key = attribute.get )[::-1]\n",
        "for key in sorted_dict_keys:\n",
        "  print(key, attribute[key])"
      ],
      "execution_count": 17,
      "outputs": [
        {
          "output_type": "stream",
          "text": [
            "NumberOfTime30-59DaysPastDueNotWorse 0.30141858488389767\n",
            "NumberOfTimes90DaysLate 0.2788621774423781\n",
            "NumberOfTime60-89DaysPastDueNotWorse 0.1535859420107645\n",
            "age 0.11695037256668306\n",
            "DebtRatio 0.07618970465193636\n",
            "MonthlyIncome 0.05853628648030928\n",
            "NumberOfDependents 0.014456931964030908\n"
          ],
          "name": "stdout"
        }
      ]
    },
    {
      "metadata": {
        "id": "0dOaxwzIyyeW",
        "colab_type": "text"
      },
      "cell_type": "markdown",
      "source": [
        "Самое слабое влияние у **NumberOfDependents** "
      ]
    },
    {
      "metadata": {
        "id": "SoW5XnKnANLe",
        "colab_type": "text"
      },
      "cell_type": "markdown",
      "source": [
        "** Задание  10.** Какое наиболее существенное примущество логистической регрессии перед случайным лесом для нашей бизнес-задачи?\n",
        "\n",
        "* меньше тратится времени для тренировки модели; item\n",
        "* меньше параметров для перебора;\n",
        "* **интепретируемость признаков;**\n",
        "* линейные свойства алгоритма."
      ]
    },
    {
      "metadata": {
        "id": "G-UJ7ymtANLf",
        "colab_type": "text"
      },
      "cell_type": "markdown",
      "source": [
        "# Бэггинг"
      ]
    },
    {
      "metadata": {
        "id": "D6MCmMCrANLg",
        "colab_type": "code",
        "colab": {}
      },
      "cell_type": "code",
      "source": [
        "from sklearn.ensemble import BaggingClassifier\n",
        "from sklearn.model_selection import RandomizedSearchCV\n",
        "parameters = {'max_features': [2, 3, 4], 'max_samples': [0.5, 0.7, 0.9], \n",
        "              \"base_estimator__C\": [0.0001, 0.001, 0.01, 1, 10, 100]}"
      ],
      "execution_count": 0,
      "outputs": []
    },
    {
      "metadata": {
        "id": "fBPTJTvDANLi",
        "colab_type": "text"
      },
      "cell_type": "markdown",
      "source": [
        "**Задание 11.**  Следующая задача обучить бэггинг классификатор (random_state=42). В качестве базовых классификаторов возьмите 100 логистических регрессий и на этот раз используйте не GridSearchCV, а RandomizedSearchCV. Так как перебирать все 54 варианта комбинаций долго, то поставьте максимальное число итераций 20 для RandomizedSearchCV. Также не забудьте передать параметр валидации cv и random_state=1. Какая лучшая точность получилась?"
      ]
    },
    {
      "metadata": {
        "id": "yHic-_CDANLj",
        "colab_type": "code",
        "colab": {}
      },
      "cell_type": "code",
      "source": [
        "bagging = BaggingClassifier( LogisticRegression(class_weight='balanced'),\n",
        "                             n_estimators=100, n_jobs=-1, random_state=42 )\n",
        "\n",
        "best_bagging_parameters = RandomizedSearchCV(bagging, parameters, n_iter=20,  \n",
        "                                             scoring='roc_auc', cv=skf,\n",
        "                                             random_state=1, n_jobs=-1 )\n",
        "best_bagging_parameters.fit(X,y)"
      ],
      "execution_count": 0,
      "outputs": []
    },
    {
      "metadata": {
        "id": "RW2DQW4_zxHt",
        "colab_type": "code",
        "colab": {
          "base_uri": "https://localhost:8080/",
          "height": 34
        },
        "outputId": "467620cd-6fb0-4835-ac32-ddbe4d0934e5"
      },
      "cell_type": "code",
      "source": [
        "best_bagging_parameters.best_score_"
      ],
      "execution_count": 20,
      "outputs": [
        {
          "output_type": "execute_result",
          "data": {
            "text/plain": [
              "0.8076172570918905"
            ]
          },
          "metadata": {
            "tags": []
          },
          "execution_count": 20
        }
      ]
    },
    {
      "metadata": {
        "id": "e3qPMdZGANLm",
        "colab_type": "text"
      },
      "cell_type": "markdown",
      "source": [
        "**Задача 12.** Дайте интерпретацию лучших параметров для бэггинга. Почему именно такие значения оказались лучшими?\n",
        "\n",
        "* для бэггинга важно использовать как можно меньше признаков\n",
        "* бэггинг лучше работает на небольших выборках\n",
        "* **меньше корреляция между одиночными моделями**\n",
        "* чем больше признаков, тем меньше теряется информации"
      ]
    },
    {
      "metadata": {
        "id": "vmEMw2VbYZU_",
        "colab_type": "text"
      },
      "cell_type": "markdown",
      "source": [
        "![alt text](https://pp.userapi.com/c849032/v849032378/39d49/4wPjIREuMqg.jpg)"
      ]
    }
  ]
}