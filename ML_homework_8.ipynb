{
  "nbformat": 4,
  "nbformat_minor": 0,
  "metadata": {
    "colab": {
      "name": "ML_homework_8.ipynb",
      "version": "0.3.2",
      "provenance": [],
      "collapsed_sections": [],
      "include_colab_link": true
    },
    "kernelspec": {
      "display_name": "Python 3",
      "language": "python",
      "name": "python3"
    },
    "accelerator": "GPU"
  },
  "cells": [
    {
      "cell_type": "markdown",
      "metadata": {
        "id": "view-in-github",
        "colab_type": "text"
      },
      "source": [
        "<a href=\"https://colab.research.google.com/github/NicknameSoHard/Open_course_ML/blob/master/ML_homework_8.ipynb\" target=\"_parent\"><img src=\"https://colab.research.google.com/assets/colab-badge.svg\" alt=\"Open In Colab\"/></a>"
      ]
    },
    {
      "metadata": {
        "id": "GpoueAmMdA33",
        "colab_type": "text"
      },
      "cell_type": "markdown",
      "source": [
        "Вам предлагается реализовать два алгоритма – регрессор и классификатор, обучаемые стохастическим градиентным спуском (Stochastic Gradient Descent, SGD). [Веб-форма](https://docs.google.com/forms/d/1xlbc0CaUaNpVs-fhxkHUe61AtsvS_aDqQ0CLFxs6UDA) для ответов."
      ]
    },
    {
      "metadata": {
        "id": "Se7ZZzXMdA36",
        "colab_type": "text"
      },
      "cell_type": "markdown",
      "source": [
        "В [статье](https://habrahabr.ru/company/ods/blog/326418/) было описано, как таким образом обучать регрессор, т.е. минимизировать квадратичную функцию потерь. Реализуем этот алгоритм."
      ]
    },
    {
      "metadata": {
        "id": "GShLz1BedA38",
        "colab_type": "text"
      },
      "cell_type": "markdown",
      "source": [
        "##  1. Линейная регрессия и SGD"
      ]
    },
    {
      "metadata": {
        "id": "WJ6sMX6Zn3iP",
        "colab_type": "code",
        "colab": {}
      },
      "cell_type": "code",
      "source": [
        "!pip install tqdm"
      ],
      "execution_count": 0,
      "outputs": []
    },
    {
      "metadata": {
        "id": "clfcd_pxdA38",
        "colab_type": "code",
        "colab": {}
      },
      "cell_type": "code",
      "source": [
        "import numpy as np\n",
        "import pandas as pd\n",
        "#from tqdm import tqdm\n",
        "from sklearn.base import BaseEstimator\n",
        "from sklearn.metrics import mean_squared_error, log_loss, roc_auc_score\n",
        "from sklearn.model_selection import train_test_split\n",
        "%matplotlib inline\n",
        "from matplotlib import pyplot as plt\n",
        "import seaborn as sns\n",
        "from sklearn.preprocessing import StandardScaler"
      ],
      "execution_count": 0,
      "outputs": []
    },
    {
      "metadata": {
        "id": "LbA8XzRKdA4B",
        "colab_type": "text"
      },
      "cell_type": "markdown",
      "source": [
        "Реализуйте класс `SGDRegressor`. Спецификация:\n",
        "- класс наследуется от `sklearn.base.BaseEstimator`\n",
        "- конструктор принимает параметры `eta` – шаг градиентного спуска (по умолчанию $10^{-3}$) и `n_iter` – число проходов по выборке (по умолчанию 10)\n",
        "- также в конструкторе должны создаваться списки `mse_` и `weights_` для отслеживания значений среднеквадратичной ошибки и вектора весов по итерациям градиентного спуска\n",
        "- Класс имеет методы `fit` и `predict`\n",
        "- Метод `fit` принимает матрицу `X` и вектор `y` (объекты `numpy.array`), добавляет к матрице `X` слева столбец из единиц, инициализирует вектор весов `w` **нулями** и в цикле с числом итераций `n_iter` обновляет веса (см. [статью](https://habrahabr.ru/company/ods/blog/326418/)), а также записывает получившиеся на данной итерации значения среднеквадратичной ошибки (именно MSE, SE слишком большими будут) и вектор весов `w` в предназначенные для этого списки. \n",
        "- В конце метод `fit` создает переменную `w_`, в которой хранится тот вектор весов, при котором ошибка минимальна\n",
        "- Метод `fit` должен возвращать текущий экземпляр класса `SGDRegressor`, т.е. `self`\n",
        "- Метод `predict` принимает матрицу `X`, добавляет к ней слева столбец из единиц и возвращает вектор прогнозов модели, используя созданный методом `fit` вектор весов `w_`."
      ]
    },
    {
      "metadata": {
        "id": "mVyDTUiRsGAF",
        "colab_type": "text"
      },
      "cell_type": "markdown",
      "source": [
        "**Очень неудобно когда одно и то же рассказывают в двух местах частично по-разному**"
      ]
    },
    {
      "metadata": {
        "id": "oBZSMN_nmCuy",
        "colab_type": "code",
        "colab": {}
      },
      "cell_type": "code",
      "source": [
        "class SGDRegressor(BaseEstimator):\n",
        "    def __init__(self, eta = 0.001, n_iter = 10):\n",
        "      self.eta = eta\n",
        "      self.n_iter = n_iter\n",
        "      self.mse_ = []\n",
        "      self.weights_ = []\n",
        "\n",
        "    def fit(self, X, y):\n",
        "      X = np.hstack([np.ones([X.shape[0], 1]), X])\n",
        "      w = np.zeros(X.shape[1])\n",
        "        \n",
        "      for n in range(self.n_iter):\n",
        "        for i in range(X.shape[0]):\n",
        "          w[0] += self.eta * (y[i] - w.dot(X[i, :]))\n",
        "          for j in range(1, X.shape[1]):\n",
        "            w[j] += self.eta * (y[i] - w.dot(X[i, :])) * X[i, j]\n",
        "          self.weights_.append(w.copy())\n",
        "          self.mse_.append(mean_squared_error(y, X.dot(w)))       \n",
        "      self.w_ = self.weights_[self.mse_.index(min(self.mse_))]\n",
        "        \n",
        "      return self      \n",
        "\n",
        "    def predict(self, X):\n",
        "      X_expanded = np.hstack((np.ones((X.shape[0],1)),X))\n",
        "      y_pred_list = []\n",
        "      for x in X_expanded:\n",
        "        y_pred_list.append( np.sum(self.w_ * x) )\n",
        "      #print(y_prog, sep =' ')\n",
        "      return y_pred_list\n"
      ],
      "execution_count": 0,
      "outputs": []
    },
    {
      "metadata": {
        "id": "W6a72fwHdA4F",
        "colab_type": "text"
      },
      "cell_type": "markdown",
      "source": [
        "Проверим работу алгоритма на данных по росту и весу. Будем прогнозировать рост (в дюймах) по весу (в фунтах)."
      ]
    },
    {
      "metadata": {
        "id": "PUS76_K4pj7a",
        "colab_type": "code",
        "colab": {}
      },
      "cell_type": "code",
      "source": [
        "!wget \"https://raw.githubusercontent.com/Yorko/mlcourse_open/master/data/weights_heights.csv\" -P drive/Open_course_ML"
      ],
      "execution_count": 0,
      "outputs": []
    },
    {
      "metadata": {
        "id": "8oiSmkBvdA4G",
        "colab_type": "code",
        "colab": {
          "base_uri": "https://localhost:8080/",
          "height": 34
        },
        "outputId": "97ac9ec8-b7b6-4ba6-cf15-4cec9e9530a5"
      },
      "cell_type": "code",
      "source": [
        "data_demo = pd.read_csv('drive/Open_course_ML/weights_heights.csv')\n",
        "np.array(data_demo['Weight'])"
      ],
      "execution_count": 72,
      "outputs": [
        {
          "output_type": "execute_result",
          "data": {
            "text/plain": [
              "array([112.9925, 136.4873, 153.0269, ..., 118.2655, 132.2682, 124.874 ])"
            ]
          },
          "metadata": {
            "tags": []
          },
          "execution_count": 72
        }
      ]
    },
    {
      "metadata": {
        "id": "QCMUYsTNdA4J",
        "colab_type": "code",
        "colab": {
          "base_uri": "https://localhost:8080/",
          "height": 280
        },
        "outputId": "4083e299-1acd-424f-a721-743b16bfef9e"
      },
      "cell_type": "code",
      "source": [
        "plt.scatter(data_demo['Weight'], data_demo['Height']);\n",
        "plt.xlabel('Вес (фунты)')\n",
        "plt.ylabel('Рост (дюймы)');"
      ],
      "execution_count": 73,
      "outputs": [
        {
          "output_type": "display_data",
          "data": {
            "image/png": "[encoded data removed]",
            "text/plain": [
              "<matplotlib.figure.Figure at 0x7f11de57b5f8>"
            ]
          },
          "metadata": {
            "tags": []
          }
        }
      ]
    },
    {
      "metadata": {
        "id": "e3qmILhLdA4P",
        "colab_type": "code",
        "colab": {}
      },
      "cell_type": "code",
      "source": [
        "X, y = data_demo['Weight'].values, data_demo['Height'].values"
      ],
      "execution_count": 0,
      "outputs": []
    },
    {
      "metadata": {
        "id": "yY4tzpj7dA4T",
        "colab_type": "text"
      },
      "cell_type": "markdown",
      "source": [
        "Выделим 70% под обучение, 30% – под проверку и масштабируем выборку."
      ]
    },
    {
      "metadata": {
        "id": "oQJ932tJdA4U",
        "colab_type": "code",
        "colab": {}
      },
      "cell_type": "code",
      "source": [
        "X_train, X_valid, y_train, y_valid = train_test_split(X, y,\n",
        "                                                     test_size=0.3,\n",
        "                                                     random_state=17)"
      ],
      "execution_count": 0,
      "outputs": []
    },
    {
      "metadata": {
        "id": "xjwOGmj3dA4Y",
        "colab_type": "code",
        "colab": {}
      },
      "cell_type": "code",
      "source": [
        "scaler = StandardScaler()\n",
        "X_train_scaled = scaler.fit_transform(X_train.reshape([X_train.shape[0], 1]))\n",
        "X_valid_scaled = scaler.transform(X_valid.reshape([X_valid.shape[0], 1]))"
      ],
      "execution_count": 0,
      "outputs": []
    },
    {
      "metadata": {
        "id": "gBaxgNJcdA4c",
        "colab_type": "text"
      },
      "cell_type": "markdown",
      "source": [
        "Обучите созданный вами `SGDRegressor` на выборке `(X_train_scaled, y_train)`. Параметры оставьте по умолчанию."
      ]
    },
    {
      "metadata": {
        "id": "thp_sqQgdA4d",
        "colab_type": "code",
        "colab": {}
      },
      "cell_type": "code",
      "source": [
        "sgdr = SGDRegressor().fit(X_train_scaled, y_train)"
      ],
      "execution_count": 0,
      "outputs": []
    },
    {
      "metadata": {
        "id": "QIsEbY87dA4h",
        "colab_type": "text"
      },
      "cell_type": "markdown",
      "source": [
        "Изобразите на графике процесс обучения – как среднеквадратичная ошибка зависит от номера итерации стохастического градиентного спуска."
      ]
    },
    {
      "metadata": {
        "id": "Sl6CcUvvaOqf",
        "colab_type": "code",
        "colab": {
          "base_uri": "https://localhost:8080/",
          "height": 282
        },
        "outputId": "1a15651c-adee-4231-9a6b-a9eccc8bc8dd"
      },
      "cell_type": "code",
      "source": [
        "pd.DataFrame(data=sgdr.mse_, dtype=float).plot()"
      ],
      "execution_count": 78,
      "outputs": [
        {
          "output_type": "execute_result",
          "data": {
            "text/plain": [
              "<matplotlib.axes._subplots.AxesSubplot at 0x7f11de5a1390>"
            ]
          },
          "metadata": {
            "tags": []
          },
          "execution_count": 78
        },
        {
          "output_type": "display_data",
          "data": {
            "image/png": "[encoded data removed]",
            "text/plain": [
              "<matplotlib.figure.Figure at 0x7f11de51d518>"
            ]
          },
          "metadata": {
            "tags": []
          }
        }
      ]
    },
    {
      "metadata": {
        "id": "iqvylG8ZdA4m",
        "colab_type": "text"
      },
      "cell_type": "markdown",
      "source": [
        "Выведите наименьшее значение среднеквадратичной ошибки и лучший вектор весов модели."
      ]
    },
    {
      "metadata": {
        "id": "Fo1JHlUvdA4n",
        "colab_type": "code",
        "colab": {
          "base_uri": "https://localhost:8080/",
          "height": 51
        },
        "outputId": "249471f4-3ad1-4870-8700-4fda0d339bc5"
      },
      "cell_type": "code",
      "source": [
        "print('Минимальная среднеквадратическая ошибка:', min(sgdr.mse_))\n",
        "print('Веса модели: w0 =', sgdr.w_[0],'w1 =', sgdr.w_[1] )"
      ],
      "execution_count": 79,
      "outputs": [
        {
          "output_type": "stream",
          "text": [
            "Минимальная среднеквадратическая ошибка: 2.7151352148331966\n",
            "Веса модели: w0 = 67.98984926081923 w1 = 0.9444903071316347\n"
          ],
          "name": "stdout"
        }
      ]
    },
    {
      "metadata": {
        "id": "bLfwW-0WdA4p",
        "colab_type": "text"
      },
      "cell_type": "markdown",
      "source": [
        "Постройте график того, как менялись значения весов модели ($w_0$ и $w_1$) по мере обучения."
      ]
    },
    {
      "metadata": {
        "id": "eSqjCD1zaai-",
        "colab_type": "code",
        "colab": {
          "base_uri": "https://localhost:8080/",
          "height": 265
        },
        "outputId": "0df155ec-a747-45b4-ff1a-90ad98f1472a"
      },
      "cell_type": "code",
      "source": [
        "plt.plot([w[0] for w in sgdr.weights_], [w[1] for w in sgdr.weights_]);"
      ],
      "execution_count": 80,
      "outputs": [
        {
          "output_type": "display_data",
          "data": {
            "image/png": "[encoded data removed]",
            "text/plain": [
              "<matplotlib.figure.Figure at 0x7f11de4ac1d0>"
            ]
          },
          "metadata": {
            "tags": []
          }
        }
      ]
    },
    {
      "metadata": {
        "id": "OBFXqAHMdA4u",
        "colab_type": "text"
      },
      "cell_type": "markdown",
      "source": [
        "Сделайте прогноз для отложенной выборки `(X_valid_scaled, y_valid)` и посмотрите на MSE."
      ]
    },
    {
      "metadata": {
        "id": "lGaGSw5idA4v",
        "colab_type": "code",
        "colab": {
          "base_uri": "https://localhost:8080/",
          "height": 34
        },
        "outputId": "b5a58510-dfb4-42e9-f5e5-11494af2b4a6"
      },
      "cell_type": "code",
      "source": [
        "mse_sgdr = mean_squared_error(sgdr.predict(X_valid_scaled), y_valid)\n",
        "mse_sgdr"
      ],
      "execution_count": 81,
      "outputs": [
        {
          "output_type": "execute_result",
          "data": {
            "text/plain": [
              "2.670867559718745"
            ]
          },
          "metadata": {
            "tags": []
          },
          "execution_count": 81
        }
      ]
    },
    {
      "metadata": {
        "id": "XikGlQ6wdA40",
        "colab_type": "text"
      },
      "cell_type": "markdown",
      "source": [
        "Теперь следайте то же самое, но с `LinearRegression` из `sklearn.linear_model`. Посчитайте MSE для отложенной выборки."
      ]
    },
    {
      "metadata": {
        "id": "fALF2S4_dA41",
        "colab_type": "code",
        "colab": {
          "base_uri": "https://localhost:8080/",
          "height": 34
        },
        "outputId": "c0696cab-6df3-49bb-bf96-080cb48653db"
      },
      "cell_type": "code",
      "source": [
        "from sklearn.linear_model import LinearRegression \n",
        "\n",
        "lr = LinearRegression()\n",
        "lr.fit(X_train_scaled, y_train)\n",
        "\n",
        "mse_lr = mean_squared_error(lr.predict(X_valid_scaled), y_valid)\n",
        "mse_lr"
      ],
      "execution_count": 82,
      "outputs": [
        {
          "output_type": "execute_result",
          "data": {
            "text/plain": [
              "2.670830767667634"
            ]
          },
          "metadata": {
            "tags": []
          },
          "execution_count": 82
        }
      ]
    },
    {
      "metadata": {
        "id": "HdpAsQHDa-A8",
        "colab_type": "code",
        "colab": {
          "base_uri": "https://localhost:8080/",
          "height": 34
        },
        "outputId": "905453f5-837a-4426-ca45-63a19009b477"
      },
      "cell_type": "code",
      "source": [
        "mse_sgdr-mse_lr"
      ],
      "execution_count": 83,
      "outputs": [
        {
          "output_type": "execute_result",
          "data": {
            "text/plain": [
              "3.6792051111067536e-05"
            ]
          },
          "metadata": {
            "tags": []
          },
          "execution_count": 83
        }
      ]
    },
    {
      "metadata": {
        "id": "m6ihnCepdA46",
        "colab_type": "text"
      },
      "cell_type": "markdown",
      "source": [
        "<font color='red'>Вопрос 1.</font> В каком знаке после разделителя отличаются MSE линейной регрессии и `SGDRegressor` для отложенной выборки?\n",
        " - 2\n",
        " - 3\n",
        " - 4\n",
        " - ** 5**"
      ]
    },
    {
      "metadata": {
        "id": "WhbjvQGcdA48",
        "colab_type": "text"
      },
      "cell_type": "markdown",
      "source": [
        "## 2. Логистическая регрессия и SGD\n",
        "Теперь давайте разберемся, как при таком же стохастическом подходе обучать логистическую регрессию."
      ]
    },
    {
      "metadata": {
        "id": "7AvjPbU8dA49",
        "colab_type": "text"
      },
      "cell_type": "markdown",
      "source": [
        "Задача классификации, $X$ – обучающая выборка размеров $\\ell \\times (d+1)$ (первый столбец – вектор из единиц), $y$ – вектор ответов, $y_i \\in \\{-1, 1\\}$.\n",
        "В [4 статье](https://habrahabr.ru/company/ods/blog/323890/) серии мы подробно разбирали, как логистическая регрессия с $L_2$-регуляризацией сводится к задаче минимизации:\n",
        "$$ C\\sum_{i=1}^\\ell \\log{(1 + e^{-y_iw^Tx_i})} + \\frac{1}{2}\\sum_{j=1}^d w_j^2 \\rightarrow min_w$$"
      ]
    },
    {
      "metadata": {
        "id": "VgQ4NCbfdA49",
        "colab_type": "text"
      },
      "cell_type": "markdown",
      "source": [
        "<font color='red'>Вопрос 2.</font> По какой формуле будут пересчитываться веса логистической регрессии при обучении стохастическим градиентным спуском?\n",
        " - $w_j^{(t+1)} = w_j^{(t)} + \\eta (Cy_i x_{ij} \\sigma(y_iw^Tx_i) +  \\delta_{j\\neq0} w_j)$\n",
        " - $w_j^{(t+1)} = w_j^{(t)} - \\eta (Cy_i x_{ij} \\sigma(-y_iw^Tx_i) +  \\delta_{j\\neq0}w_j)$\n",
        " - $w_j^{(t+1)} = w_j^{(t)} - \\eta (Cy_i x_{ij} \\sigma(-y_iw^Tx_i) -  \\delta_{j\\neq0}w_j )$\n",
        " - **$w_j^{(t+1)} = w_j^{(t)} + \\eta (Cy_i x_{ij} \\sigma(y_iw^Tx_i) -  \\delta_{j\\neq0}w_j)$<- Это оно**\n",
        " \n",
        "Здесь \n",
        "- $i \\in {0,\\ldots, \\ell-1}, j \\in {0,\\ldots, d}$\n",
        "- C – коэффициент регуляризации\n",
        "- $x_{ij} $ – элемент матрицы X в строке $i$ и столбце $j$ (нумерация с 0), \n",
        "- $x_i$ – $i$-ая строка матрицы $X$ (нумерация с 0), \n",
        "- $w_j^{(t)}$ – значение $j$-ого элемента вектора весов $w$ на шаге $t$ стохастического градиентного спуска\n",
        "- $\\eta$ – небольшая константа, шаг градиентного спуска\n",
        "- $\\delta_{j\\neq0}$ – символ Кронекера, то есть 1, когда $j\\neq0$ и $0$ – в противном случае"
      ]
    },
    {
      "metadata": {
        "id": "ShxHwNAtdA4_",
        "colab_type": "text"
      },
      "cell_type": "markdown",
      "source": [
        "Реализуйте класс `SGDClassifier`. Спецификация:\n",
        "- класс наследуется от `sklearn.base.BaseEstimator`\n",
        "- конструктор принимает параметры `eta` – шаг градиентного спуска (по умолчанию $10^{-3}$), `n_iter` – число проходов по выборке (по умолчанию 10) и C – коэффициент регуляризации\n",
        "- также в конструкторе должны создаваться списки `loss_` и `weights_` для отслеживания значений логистических потерь и вектора весов по итерациям градиентного спуска\n",
        "- Класс имеет методы `fit`, `predict` и `predict_proba`\n",
        "- Метод `fit` принимает матрицу `X` и вектор `y` (объекты `numpy.array`, рассматриваем только случай бинарной классификации, и значения в векторе `y` могут быть -1 и 1), добавляет к матрице `X` слева столбец из единиц, инициализирует вектор весов `w` **нулями** и в цикле с числом итераций `n_iter` обновляет веса по выведенной вами формуле, а также записывает получившиеся на данной итерации значения log_loss и вектор весов `w` в предназначенные для этого списки. \n",
        "- В конце метод `fit` создает переменную `w_`, в которой хранится тот вектор весов, при котором ошибка минимальна\n",
        "- Метод `fit` должен возвращать текущий экземпляр класса `SGDClassifier`, т.е. `self`\n",
        "- Метод `predict_proba` принимает матрицу `X`, добавляет к ней слева столбец из единиц и возвращает матрицу прогнозов модели (такую же, какую возвращают методы `predict_proba` моделей `sklearn`), используя созданный методом `fit` вектор весов `w_`\n",
        "- Метод `predict` вызывает метод  `predict_proba` и возвращает вектор ответов: -1, если предсказанная вероятность класса 1 меньше 0.5 и 1 – в противном случае\n",
        "- И еще **важный момент**: во избежание вычислительных проблем из-за слишком больших или малых значений под экспонентной (overflow & underflow) используйте написанную функцию `sigma`"
      ]
    },
    {
      "metadata": {
        "id": "ab4hNiwfdA4_",
        "colab_type": "code",
        "colab": {}
      },
      "cell_type": "code",
      "source": [
        "def sigma(z):\n",
        "    z = z.flatten()\n",
        "    z[z > 100] = 100\n",
        "    z[z < -100] = -100\n",
        "    return 1. / (1 + np.exp(-z))"
      ],
      "execution_count": 0,
      "outputs": []
    },
    {
      "metadata": {
        "id": "Bu6AUKi2dA5C",
        "colab_type": "code",
        "colab": {}
      },
      "cell_type": "code",
      "source": [
        "class SGDClassifier(BaseEstimator):\n",
        "  def __init__(self, C, eta = 0.001, n_iter = 10):\n",
        "    self.eta = eta\n",
        "    self.n_iter = n_iter\n",
        "    self.C = C\n",
        "    self.loss_ = []\n",
        "    self.weights_ = []\n",
        "    \n",
        "  def fit(self, X, y):\n",
        "    X = np.hstack([np.ones([X.shape[0], 1]), X])\n",
        "    w = np.ones(X.shape[1])\n",
        "        \n",
        "    for it in range(self.n_iter):\n",
        "      for i in range(X.shape[0]):\n",
        "        w[0] += self.eta * y[i] * sigma(- y[i] * w.dot(X[i, :]))\n",
        "        for j in range(1, X.shape[1]):\n",
        "          w[j] += self.eta *( self.C * y[i] * X[i, j] * \n",
        "                                       sigma(-y[i] * w.dot(X[i, :]))\n",
        "                                    -  w[j])\n",
        "                \n",
        "        self.loss_.append(log_loss(y, sigma(X.dot(w))))\n",
        "        self.weights_.append(w)\n",
        "    \n",
        "    self.w_ = self.weights_[np.argmin(self.loss_)]\n",
        "    return self\n",
        "  \n",
        "  def predict(self, X):\n",
        "    result = []\n",
        "    for x in predict_proba(X):\n",
        "      if x > 0.5:\n",
        "        result.append(-1)\n",
        "      else:\n",
        "        result.append(1)\n",
        "    return result\n",
        "  \n",
        "  def predict_proba(self, X):\n",
        "    X_new = np.insert(X, 0, 1, axis=1)  \n",
        "    p_vec = sigma(X_new.dot(self.w_)).reshape([X_new.shape[0], 1])    \n",
        "    return np.hstack([1 - p_vec, p_vec])\n",
        "                  "
      ],
      "execution_count": 0,
      "outputs": []
    },
    {
      "metadata": {
        "id": "Lphkxfr5dA5E",
        "colab_type": "text"
      },
      "cell_type": "markdown",
      "source": [
        "Проверим `SGDClassifier` на данных UCI по раку молочной железы."
      ]
    },
    {
      "metadata": {
        "id": "ASz7RIpFdA5H",
        "colab_type": "code",
        "colab": {}
      },
      "cell_type": "code",
      "source": [
        "from sklearn.datasets import load_breast_cancer\n",
        "cancer = load_breast_cancer()\n",
        "# поменяем метки в y с 0 на -1\n",
        "X, y = cancer.data, [-1 if i == 0 else 1 for i in cancer.target]"
      ],
      "execution_count": 0,
      "outputs": []
    },
    {
      "metadata": {
        "id": "YdagnYrudA5K",
        "colab_type": "text"
      },
      "cell_type": "markdown",
      "source": [
        "Выделим 70% под обучение, 30% – под проверку и масштабируем выборку."
      ]
    },
    {
      "metadata": {
        "id": "tUfoguTndA5L",
        "colab_type": "code",
        "colab": {}
      },
      "cell_type": "code",
      "source": [
        "X_train, X_valid, y_train, y_valid = train_test_split(X, y,\n",
        "                                                     test_size = 0.3,\n",
        "                                                     random_state = 17)"
      ],
      "execution_count": 0,
      "outputs": []
    },
    {
      "metadata": {
        "id": "YAbZ1RYjdA5N",
        "colab_type": "code",
        "colab": {}
      },
      "cell_type": "code",
      "source": [
        "scaler = StandardScaler()\n",
        "X_train_scaled = scaler.fit_transform(X_train)\n",
        "X_valid_scaled = scaler.transform(X_valid)"
      ],
      "execution_count": 0,
      "outputs": []
    },
    {
      "metadata": {
        "id": "sruKjazzdA5P",
        "colab_type": "text"
      },
      "cell_type": "markdown",
      "source": [
        "Обучите на масштибированной выборке `SGDClassifier` с параметрами `C`=1, `eta`=$10^{-3}$ и `n_iter`=3."
      ]
    },
    {
      "metadata": {
        "id": "Ht-vdJ1QdA5Q",
        "colab_type": "code",
        "colab": {}
      },
      "cell_type": "code",
      "source": [
        "sgdc = SGDClassifier(C=1, eta=0.001, n_iter=3).fit(X_train_scaled, y_train)"
      ],
      "execution_count": 0,
      "outputs": []
    },
    {
      "metadata": {
        "id": "S94PiL1edA5U",
        "colab_type": "text"
      },
      "cell_type": "markdown",
      "source": [
        "Постройте график изменения log_loss."
      ]
    },
    {
      "metadata": {
        "id": "T7hMua_-cF8-",
        "colab_type": "code",
        "colab": {
          "base_uri": "https://localhost:8080/",
          "height": 284
        },
        "outputId": "a2b47408-bb62-4464-e75c-2ecb35bf9237"
      },
      "cell_type": "code",
      "source": [
        "pd.DataFrame(data=sgdc.loss_, dtype=float).plot()"
      ],
      "execution_count": 90,
      "outputs": [
        {
          "output_type": "execute_result",
          "data": {
            "text/plain": [
              "<matplotlib.axes._subplots.AxesSubplot at 0x7f11ddbf62b0>"
            ]
          },
          "metadata": {
            "tags": []
          },
          "execution_count": 90
        },
        {
          "output_type": "display_data",
          "data": {
            "image/png": "[encoded data removed]",
            "text/plain": [
              "<matplotlib.figure.Figure at 0x7f11ddbf6e80>"
            ]
          },
          "metadata": {
            "tags": []
          }
        }
      ]
    },
    {
      "metadata": {
        "id": "X8yWBBDBdA5Y",
        "colab_type": "text"
      },
      "cell_type": "markdown",
      "source": [
        "Теперь обучите `SGDClassifier` с параметром `C`=1000, число проходов по выборке увеличьте до 10."
      ]
    },
    {
      "metadata": {
        "id": "nhTPDzSecQ5k",
        "colab_type": "code",
        "colab": {}
      },
      "cell_type": "code",
      "source": [
        "sgdc_second = SGDClassifier(C=1000, eta=0.001, n_iter=10).fit(X_train_scaled, y_train)"
      ],
      "execution_count": 0,
      "outputs": []
    },
    {
      "metadata": {
        "id": "EssfnicPdA5e",
        "colab_type": "text"
      },
      "cell_type": "markdown",
      "source": [
        "Посмотрите на веса модели, при которых ошибка на обучении была минимальна."
      ]
    },
    {
      "metadata": {
        "id": "TRL4AoLNcXU3",
        "colab_type": "code",
        "colab": {
          "base_uri": "https://localhost:8080/",
          "height": 136
        },
        "outputId": "d6ba44a3-d5ca-4fb4-a3c2-69c7fbebbccd"
      },
      "cell_type": "code",
      "source": [
        "sgdc_second.w_"
      ],
      "execution_count": 92,
      "outputs": [
        {
          "output_type": "execute_result",
          "data": {
            "text/plain": [
              "array([ 0.99407341, -1.12870677, -0.79097561, -0.0967224 , -0.07390861,\n",
              "       -0.49424025,  1.00318669, -1.35864914, -1.56253297,  0.14393583,\n",
              "        0.59748894, -1.80614499, -0.06356839, -0.33032558, -1.00054563,\n",
              "        0.25777574,  1.56516357, -0.51799109,  0.16821783,  0.02365163,\n",
              "        0.68150705, -1.02890177, -0.61393469, -0.8654416 , -1.09152451,\n",
              "       -1.91813   , -0.4449124 , -1.56868055, -0.88361326, -0.77832902,\n",
              "       -0.55584325])"
            ]
          },
          "metadata": {
            "tags": []
          },
          "execution_count": 92
        }
      ]
    },
    {
      "metadata": {
        "id": "OS3XBtrAdA5g",
        "colab_type": "text"
      },
      "cell_type": "markdown",
      "source": [
        "<font color='red'>Вопрос 3.</font> Какой признак сильнее остальных влияет на вероятность того, что опухоль доброкачественна, согласно обученной модели `SGDClassifier`? (будьте внимательны – проверьте длину вектора весов, полученного после обучения, сравните с числом признаков в исходной задаче)\n",
        " - worst compactness\n",
        " - **worst smoothness**\n",
        " - worst concavity\n",
        " - concave points error\n",
        " - concavity error\n",
        " - compactness error\n",
        " - worst fractal dimension"
      ]
    },
    {
      "metadata": {
        "id": "Yc_HBX4zdA5g",
        "colab_type": "code",
        "colab": {
          "base_uri": "https://localhost:8080/",
          "height": 34
        },
        "outputId": "4df0a086-540f-4279-e426-41587d754e69"
      },
      "cell_type": "code",
      "source": [
        "best_w = sgdc_second.weights_[np.argmin(sgdc_second.loss_)]\n",
        "cancer.feature_names[np.argmin(best_w)-1]"
      ],
      "execution_count": 93,
      "outputs": [
        {
          "output_type": "execute_result",
          "data": {
            "text/plain": [
              "'worst smoothness'"
            ]
          },
          "metadata": {
            "tags": []
          },
          "execution_count": 93
        }
      ]
    },
    {
      "metadata": {
        "id": "KRMORnczdA5m",
        "colab_type": "text"
      },
      "cell_type": "markdown",
      "source": [
        "Посчитайте log_loss и ROC AUC на отложенной выборке, проделайте все то же с `sklearn.linear_model.LogisticRegression` (параметры по умолчанию, только random_state=17) и сравните результаты."
      ]
    },
    {
      "metadata": {
        "id": "9XZMBYmSdA5m",
        "colab_type": "code",
        "colab": {
          "base_uri": "https://localhost:8080/",
          "height": 34
        },
        "outputId": "b54498c2-535b-46cf-d522-b62349b55c5d"
      },
      "cell_type": "code",
      "source": [
        "sgdc_second_pred = sgdc_second.predict_proba(X_valid_scaled)[:, 1]\n",
        "log_loss(y_valid, sgdc_second_pred), roc_auc_score(y_valid, sgdc_second_pred)"
      ],
      "execution_count": 94,
      "outputs": [
        {
          "output_type": "execute_result",
          "data": {
            "text/plain": [
              "(0.14271908653850107, 0.9879284649776454)"
            ]
          },
          "metadata": {
            "tags": []
          },
          "execution_count": 94
        }
      ]
    },
    {
      "metadata": {
        "id": "lHk2ATIrc-C1",
        "colab_type": "code",
        "colab": {
          "base_uri": "https://localhost:8080/",
          "height": 34
        },
        "outputId": "ed456465-cc7a-4714-f350-f77c75347fab"
      },
      "cell_type": "code",
      "source": [
        "from sklearn.linear_model import LogisticRegression\n",
        "\n",
        "ls = LogisticRegression(random_state=17).fit(X_train_scaled, y_train)\n",
        "ls_pred = ls.predict_proba(X_valid_scaled)[:, 1]\n",
        "log_loss(y_valid, ls_pred), roc_auc_score(y_valid, ls_pred)"
      ],
      "execution_count": 95,
      "outputs": [
        {
          "output_type": "execute_result",
          "data": {
            "text/plain": [
              "(0.10569213477936722, 0.9892697466467957)"
            ]
          },
          "metadata": {
            "tags": []
          },
          "execution_count": 95
        }
      ]
    },
    {
      "metadata": {
        "id": "eUXroisPdA5o",
        "colab_type": "text"
      },
      "cell_type": "markdown",
      "source": [
        "## 3. Логистическая регрессия и SGDClassifier в задаче классификации отзывов к фильмам"
      ]
    },
    {
      "metadata": {
        "id": "VMrX8Wz1dA5p",
        "colab_type": "text"
      },
      "cell_type": "markdown",
      "source": [
        "Теперь посмотрим на логистическую регрессию и ее же версию, но обучаемую стохастическим градиентным спуском, в задаче классификации отзывов IMDB. С этой задачей мы знакомы по 4 и 8 темам курса. Данные можно скачать [отсюда](https://drive.google.com/open?id=1xq4l5c0JrcxJdyBwJWvy0u9Ad_pvkJ1l).\n",
        "\n",
        "Импортируем файлы, и обучим на имеющихся данных `CountVectorizer`"
      ]
    },
    {
      "metadata": {
        "id": "LZHZiURqdA5q",
        "colab_type": "code",
        "colab": {}
      },
      "cell_type": "code",
      "source": [
        "from sklearn.datasets import load_files\n",
        "from sklearn.feature_extraction.text import CountVectorizer\n",
        "from sklearn.linear_model import SGDClassifier"
      ],
      "execution_count": 0,
      "outputs": []
    },
    {
      "metadata": {
        "id": "DYOnRY2ldA5r",
        "colab_type": "code",
        "colab": {}
      },
      "cell_type": "code",
      "source": [
        "reviews_train = load_files(\"/Users/y.kashnitsky/Documents/Machine_learning/datasets/imdb_reviews/train\")\n",
        "text_train, y_train = reviews_train.data, reviews_train.target"
      ],
      "execution_count": 0,
      "outputs": []
    },
    {
      "metadata": {
        "id": "jYh5Ffi8dA5u",
        "colab_type": "code",
        "colab": {}
      },
      "cell_type": "code",
      "source": [
        "reviews_test = load_files(\"/Users/y.kashnitsky/Documents/Machine_learning/datasets/imdb_reviews/test\")\n",
        "text_test, y_test = reviews_test.data, reviews_test.target"
      ],
      "execution_count": 0,
      "outputs": []
    },
    {
      "metadata": {
        "id": "T0y_ioXNdA5w",
        "colab_type": "text"
      },
      "cell_type": "markdown",
      "source": [
        "Обучим на имеющихся данных `CountVectorizer`, считая биграммы, то есть перейдем к разреженному представлению данных, где каждому уникальному слову и паре подряд идущих слов в обучающей выборке соответсвует признак. Всего таких признаков получается более 1.5 млн."
      ]
    },
    {
      "metadata": {
        "id": "PdWqTUGodA5x",
        "colab_type": "code",
        "colab": {}
      },
      "cell_type": "code",
      "source": [
        "%%time\n",
        "cv = CountVectorizer(ngram_range=(1, 2))\n",
        "X_train = cv.fit_transform(text_train)\n",
        "X_test = cv.transform(text_test)\n",
        "\n",
        "X_train.shape, X_test.shape"
      ],
      "execution_count": 0,
      "outputs": []
    },
    {
      "metadata": {
        "id": "joSGN0iZdA53",
        "colab_type": "text"
      },
      "cell_type": "markdown",
      "source": [
        "Обучите на выборке `(X_train, y_train)` логистическую регрессию с параметрами по умолчанию (только укажите `random_state`=17) и посчитайте ROC AUC на тестовой выборке. Замерьте время обучения модели. Данные можно не масштабировать, так как признаки – по сути, счетчики, и они уже все измеряются примерно в одном диапазоне."
      ]
    },
    {
      "metadata": {
        "id": "dRLnR_9JdA55",
        "colab_type": "code",
        "colab": {}
      },
      "cell_type": "code",
      "source": [
        "%%time\n",
        "lr = LogisticRegression(random_state=17)\n",
        "lr.fit(X_train, y_train)\n",
        "\n",
        "roc_auc_score(y_test, lr.predict_proba(X_test)[:, 1])"
      ],
      "execution_count": 0,
      "outputs": []
    },
    {
      "metadata": {
        "id": "tWQi0sSHdA57",
        "colab_type": "text"
      },
      "cell_type": "markdown",
      "source": [
        "Теперь перейдем к онлайн-алгоритму. Мы написали свой `SGDClassifier` и принцип его работы поняли, надо еще немного постараться, чтобы сделать его эффективным, например, сделать поддержку разреженных данных. Но мы теперь перейдем к `sklearn`-реализации SGD-алгоритма. Прочитайте документацию [SGDClassifier](http://scikit-learn.org/stable/modules/generated/sklearn.linear_model.SGDClassifier.html), сделайте выводы, чем `SGDClassifier` из `Sklearn` более продвинут, чем наша реализация SGD-классификатора. "
      ]
    },
    {
      "metadata": {
        "id": "QloLbLgpdA5-",
        "colab_type": "text"
      },
      "cell_type": "markdown",
      "source": [
        "<font color='red'>Вопрос 4.</font> Чем `sklearn`-реализация стохастического классификатора более продвинута, чем `SGDClassifier`, который мы реализовали? Отметьте все подходящие варианты.\n",
        " - **Изменяемый шаг градиентного спуска**\n",
        " - **Реализован линейный SVM**\n",
        " - Реализована ранняя остановка во избежание переобучения\n",
        " - **Есть распараллеливание по процессорам**\n",
        " - Можно обучать LASSO\n",
        " - Поддерживается онлайн-обучение деревьев решений\n",
        " - **Поддерживается mini-batch подход (обновление весов по нескольким объектом сразу, а не по одному)**\n"
      ]
    },
    {
      "metadata": {
        "id": "RLz5q6omdA5_",
        "colab_type": "text"
      },
      "cell_type": "markdown",
      "source": [
        "Проведите 100 итераций SGD-логрегрессии (опять `random_state`=17) на той же выборке. Опять замерьте время обучения модели и обратите внимание, насколько оно меньше, чем время обучения логистической регрессии."
      ]
    },
    {
      "metadata": {
        "id": "ruPdILjWdA6A",
        "colab_type": "code",
        "colab": {}
      },
      "cell_type": "code",
      "source": [
        "%%time\n",
        "sgd = SGDClassifier(loss='log', n_iter=100, random_state=17)\n",
        "sgd.fit(X_train, y_train)\n",
        "\n",
        "y_pred = sgd.predict_proba(X_test)[:, 1]\n",
        "roc_auc_score(y_test, y_pred)"
      ],
      "execution_count": 0,
      "outputs": []
    },
    {
      "metadata": {
        "id": "41IU4zHqdA6D",
        "colab_type": "text"
      },
      "cell_type": "markdown",
      "source": [
        "<font color='red'>Вопрос 5.</font> В каком знаке после разделителя отличаются ROC AUC на тестовой выборке логистической регрессии и SGD-классификатора `Sklearn` с логистической функцией потерь?\n",
        " - 2\n",
        " - ** 3**\n",
        " - 4\n",
        " - 5"
      ]
    }
  ]
}