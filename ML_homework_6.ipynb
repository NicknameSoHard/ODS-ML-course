{
  "nbformat": 4,
  "nbformat_minor": 0,
  "metadata": {
    "colab": {
      "name": "ML_homework_6.ipynb",
      "version": "0.3.2",
      "provenance": [],
      "collapsed_sections": [],
      "include_colab_link": true
    },
    "kernelspec": {
      "display_name": "Python 3",
      "language": "python",
      "name": "python3"
    }
  },
  "cells": [
    {
      "cell_type": "markdown",
      "metadata": {
        "id": "view-in-github",
        "colab_type": "text"
      },
      "source": [
        "[View in Colaboratory](https://colab.research.google.com/github/NicknameSoHard/Open_course_ML/blob/master/ML_homework_6.ipynb)"
      ]
    },
    {
      "metadata": {
        "id": "VwHqPdTonjHv",
        "colab_type": "code",
        "colab": {
          "base_uri": "https://localhost:8080/",
          "height": 224
        },
        "outputId": "878ca966-df1f-4fe8-d5ca-190ed874e18c"
      },
      "cell_type": "code",
      "source": [
        "!wget https://raw.githubusercontent.com/Yorko/mlcourse_open/master/data/winequality-white.csv -P drive/Open_course_ML  "
      ],
      "execution_count": 1,
      "outputs": [
        {
          "output_type": "stream",
          "text": [
            "--2018-07-31 14:23:21--  https://raw.githubusercontent.com/Yorko/mlcourse_open/master/data/winequality-white.csv\r\n",
            "Resolving raw.githubusercontent.com (raw.githubusercontent.com)... 151.101.0.133, 151.101.64.133, 151.101.128.133, ...\r\n",
            "Connecting to raw.githubusercontent.com (raw.githubusercontent.com)|151.101.0.133|:443... connected.\n",
            "HTTP request sent, awaiting response... 200 OK\n",
            "Length: 264426 (258K) [text/plain]\n",
            "Saving to: ‘drive/Open_course_ML/winequality-white.csv’\n",
            "\n",
            "winequality-white.c 100%[===================>] 258.23K  --.-KB/s    in 0.03s   \n",
            "\n",
            "2018-07-31 14:23:21 (8.72 MB/s) - ‘drive/Open_course_ML/winequality-white.csv’ saved [264426/264426]\n",
            "\n"
          ],
          "name": "stdout"
        }
      ]
    },
    {
      "metadata": {
        "id": "HyDxf0c9nSZ9",
        "colab_type": "code",
        "colab": {}
      },
      "cell_type": "code",
      "source": [
        "# отключим всякие предупреждения Anaconda\n",
        "import warnings\n",
        "warnings.filterwarnings('ignore')\n",
        "import numpy as np\n",
        "import pandas as pd\n",
        "from sklearn.metrics.regression import mean_squared_error\n",
        "from sklearn.preprocessing import StandardScaler\n",
        "from sklearn.model_selection import GridSearchCV\n",
        "from sklearn.model_selection import cross_val_score, train_test_split\n",
        "from sklearn.linear_model import LinearRegression, LassoCV, Lasso\n",
        "from sklearn.ensemble import RandomForestRegressor"
      ],
      "execution_count": 0,
      "outputs": []
    },
    {
      "metadata": {
        "id": "VnwcSe09nSaB",
        "colab_type": "text"
      },
      "cell_type": "markdown",
      "source": [
        "**Будем работать с набором данных по качеству белого вина (репозиторий UCI). Загружаем данные.**"
      ]
    },
    {
      "metadata": {
        "id": "yIENgafznSaC",
        "colab_type": "code",
        "colab": {}
      },
      "cell_type": "code",
      "source": [
        "data = pd.read_csv('drive/Open_course_ML/winequality-white.csv', sep=';')"
      ],
      "execution_count": 0,
      "outputs": []
    },
    {
      "metadata": {
        "id": "knUgi9M4nSaF",
        "colab_type": "code",
        "colab": {
          "base_uri": "https://localhost:8080/",
          "height": 258
        },
        "outputId": "8d6a4216-97e1-4ad3-bae9-4df183edeb57"
      },
      "cell_type": "code",
      "source": [
        "data.head()"
      ],
      "execution_count": 180,
      "outputs": [
        {
          "output_type": "execute_result",
          "data": {
            "text/html": [
              "<div>\n",
              "<style scoped>\n",
              "    .dataframe tbody tr th:only-of-type {\n",
              "        vertical-align: middle;\n",
              "    }\n",
              "\n",
              "    .dataframe tbody tr th {\n",
              "        vertical-align: top;\n",
              "    }\n",
              "\n",
              "    .dataframe thead th {\n",
              "        text-align: right;\n",
              "    }\n",
              "</style>\n",
              "<table border=\"1\" class=\"dataframe\">\n",
              "  <thead>\n",
              "    <tr style=\"text-align: right;\">\n",
              "      <th></th>\n",
              "      <th>fixed acidity</th>\n",
              "      <th>volatile acidity</th>\n",
              "      <th>citric acid</th>\n",
              "      <th>residual sugar</th>\n",
              "      <th>chlorides</th>\n",
              "      <th>free sulfur dioxide</th>\n",
              "      <th>total sulfur dioxide</th>\n",
              "      <th>density</th>\n",
              "      <th>pH</th>\n",
              "      <th>sulphates</th>\n",
              "      <th>alcohol</th>\n",
              "      <th>quality</th>\n",
              "    </tr>\n",
              "  </thead>\n",
              "  <tbody>\n",
              "    <tr>\n",
              "      <th>0</th>\n",
              "      <td>7.0</td>\n",
              "      <td>0.27</td>\n",
              "      <td>0.36</td>\n",
              "      <td>20.7</td>\n",
              "      <td>0.045</td>\n",
              "      <td>45.0</td>\n",
              "      <td>170.0</td>\n",
              "      <td>1.0010</td>\n",
              "      <td>3.00</td>\n",
              "      <td>0.45</td>\n",
              "      <td>8.8</td>\n",
              "      <td>6</td>\n",
              "    </tr>\n",
              "    <tr>\n",
              "      <th>1</th>\n",
              "      <td>6.3</td>\n",
              "      <td>0.30</td>\n",
              "      <td>0.34</td>\n",
              "      <td>1.6</td>\n",
              "      <td>0.049</td>\n",
              "      <td>14.0</td>\n",
              "      <td>132.0</td>\n",
              "      <td>0.9940</td>\n",
              "      <td>3.30</td>\n",
              "      <td>0.49</td>\n",
              "      <td>9.5</td>\n",
              "      <td>6</td>\n",
              "    </tr>\n",
              "    <tr>\n",
              "      <th>2</th>\n",
              "      <td>8.1</td>\n",
              "      <td>0.28</td>\n",
              "      <td>0.40</td>\n",
              "      <td>6.9</td>\n",
              "      <td>0.050</td>\n",
              "      <td>30.0</td>\n",
              "      <td>97.0</td>\n",
              "      <td>0.9951</td>\n",
              "      <td>3.26</td>\n",
              "      <td>0.44</td>\n",
              "      <td>10.1</td>\n",
              "      <td>6</td>\n",
              "    </tr>\n",
              "    <tr>\n",
              "      <th>3</th>\n",
              "      <td>7.2</td>\n",
              "      <td>0.23</td>\n",
              "      <td>0.32</td>\n",
              "      <td>8.5</td>\n",
              "      <td>0.058</td>\n",
              "      <td>47.0</td>\n",
              "      <td>186.0</td>\n",
              "      <td>0.9956</td>\n",
              "      <td>3.19</td>\n",
              "      <td>0.40</td>\n",
              "      <td>9.9</td>\n",
              "      <td>6</td>\n",
              "    </tr>\n",
              "    <tr>\n",
              "      <th>4</th>\n",
              "      <td>7.2</td>\n",
              "      <td>0.23</td>\n",
              "      <td>0.32</td>\n",
              "      <td>8.5</td>\n",
              "      <td>0.058</td>\n",
              "      <td>47.0</td>\n",
              "      <td>186.0</td>\n",
              "      <td>0.9956</td>\n",
              "      <td>3.19</td>\n",
              "      <td>0.40</td>\n",
              "      <td>9.9</td>\n",
              "      <td>6</td>\n",
              "    </tr>\n",
              "  </tbody>\n",
              "</table>\n",
              "</div>"
            ],
            "text/plain": [
              "   fixed acidity  volatile acidity  citric acid  residual sugar  chlorides  \\\n",
              "0            7.0              0.27         0.36            20.7      0.045   \n",
              "1            6.3              0.30         0.34             1.6      0.049   \n",
              "2            8.1              0.28         0.40             6.9      0.050   \n",
              "3            7.2              0.23         0.32             8.5      0.058   \n",
              "4            7.2              0.23         0.32             8.5      0.058   \n",
              "\n",
              "   free sulfur dioxide  total sulfur dioxide  density    pH  sulphates  \\\n",
              "0                 45.0                 170.0   1.0010  3.00       0.45   \n",
              "1                 14.0                 132.0   0.9940  3.30       0.49   \n",
              "2                 30.0                  97.0   0.9951  3.26       0.44   \n",
              "3                 47.0                 186.0   0.9956  3.19       0.40   \n",
              "4                 47.0                 186.0   0.9956  3.19       0.40   \n",
              "\n",
              "   alcohol  quality  \n",
              "0      8.8        6  \n",
              "1      9.5        6  \n",
              "2     10.1        6  \n",
              "3      9.9        6  \n",
              "4      9.9        6  "
            ]
          },
          "metadata": {
            "tags": []
          },
          "execution_count": 180
        }
      ]
    },
    {
      "metadata": {
        "id": "PuM8OY6TnSaP",
        "colab_type": "text"
      },
      "cell_type": "markdown",
      "source": [
        "**Отделите целевой признак, разделите обучающую выборку в отношении 7:3 (30% - под оставленную выборку, пусть random_state=17) и отмасштабируйте данные с помощью StandardScaler.**"
      ]
    },
    {
      "metadata": {
        "id": "9CdmrzpMnSaQ",
        "colab_type": "code",
        "colab": {}
      },
      "cell_type": "code",
      "source": [
        "x_columns = data.columns.values\n",
        "x_columns =  [x for x in data if x != 'quality']\n",
        "\n",
        "X = data[ x_columns ]\n",
        "y = data['quality']\n",
        "\n",
        "X_train, X_holdout, y_train, y_holdout = train_test_split( X, y, test_size=0.3, random_state=17)\n",
        "scaler = StandardScaler()\n",
        "X_train_scaled = scaler.fit_transform(X_train)\n",
        "X_holdout_scaled = scaler.transform(X_holdout)"
      ],
      "execution_count": 0,
      "outputs": []
    },
    {
      "metadata": {
        "id": "p84zVfI3nSaU",
        "colab_type": "text"
      },
      "cell_type": "markdown",
      "source": [
        "## Линейная регрессия"
      ]
    },
    {
      "metadata": {
        "id": "f1-Rfrh8nSaU",
        "colab_type": "text"
      },
      "cell_type": "markdown",
      "source": [
        "**Обучите простую линейную регрессию.**"
      ]
    },
    {
      "metadata": {
        "id": "_nZNJF9LnSaV",
        "colab_type": "code",
        "colab": {
          "base_uri": "https://localhost:8080/",
          "height": 34
        },
        "outputId": "612d7937-8e6c-4f2d-bca6-53b36ff73133"
      },
      "cell_type": "code",
      "source": [
        "linreg = LinearRegression()\n",
        "linreg.fit(X_train_scaled, y_train)"
      ],
      "execution_count": 200,
      "outputs": [
        {
          "output_type": "execute_result",
          "data": {
            "text/plain": [
              "LinearRegression(copy_X=True, fit_intercept=True, n_jobs=1, normalize=False)"
            ]
          },
          "metadata": {
            "tags": []
          },
          "execution_count": 200
        }
      ]
    },
    {
      "metadata": {
        "id": "FqdVFmUknSaY",
        "colab_type": "text"
      },
      "cell_type": "markdown",
      "source": [
        "**<font color='red'>Вопрос 1:</font> Каковы среднеквадратичные ошибки линейной регрессии на обучающей и отложенной выборках?**"
      ]
    },
    {
      "metadata": {
        "id": "LB9CBeeQnSaa",
        "colab_type": "code",
        "colab": {
          "base_uri": "https://localhost:8080/",
          "height": 51
        },
        "outputId": "f3cf146c-d33a-48eb-9d52-1c4d746f39ab"
      },
      "cell_type": "code",
      "source": [
        "print(\"Mean squared error (train): %.3f\" % mean_squared_error(y_train, linreg.predict(X_train_scaled) ) )\n",
        "print(\"Mean squared error (test): %.3f\" % mean_squared_error(y_holdout, linreg.predict(X_holdout_scaled) ) )"
      ],
      "execution_count": 201,
      "outputs": [
        {
          "output_type": "stream",
          "text": [
            "Mean squared error (train): 0.558\n",
            "Mean squared error (test): 0.584\n"
          ],
          "name": "stdout"
        }
      ]
    },
    {
      "metadata": {
        "id": "GVEb98pOnSad",
        "colab_type": "text"
      },
      "cell_type": "markdown",
      "source": [
        "**Посмотрите на коэффициенты модели и отранжируйте признаки по влиянию на качество вина (учтите, что большие по модулю отрицательные значения коэффициентов тоже говорят о сильном влиянии). **<br>\n",
        "**<font color='red'>Вопрос 2:</font> Какой признак линейная регрессия считает наиболее сильно влияющим на качество вина?**"
      ]
    },
    {
      "metadata": {
        "id": "n2ntLVQo5TKZ",
        "colab_type": "code",
        "colab": {}
      },
      "cell_type": "code",
      "source": [
        "def print_top_coeff(value_coefficient, position):\n",
        "  attribute = dict()\n",
        "  i = 0\n",
        "  for name in X.columns.values:\n",
        "    attribute.update( {name : np.abs(value_coefficient[i]) })\n",
        "    i+=1\n",
        "\n",
        "  sorted_dict_keys = sorted( attribute, key = attribute.get )[::-1]\n",
        "  for key in sorted_dict_keys:\n",
        "    print(key, attribute[key])\n",
        "\n",
        "  print('\\nОтвет:', sorted_dict_keys[position] )"
      ],
      "execution_count": 0,
      "outputs": []
    },
    {
      "metadata": {
        "id": "6w2yli7D9ds1",
        "colab_type": "code",
        "colab": {
          "base_uri": "https://localhost:8080/",
          "height": 238
        },
        "outputId": "e0cac980-c02e-401f-e20b-ae7c3aaa6926"
      },
      "cell_type": "code",
      "source": [
        "print_top_coeff(linreg.coef_ , 0)"
      ],
      "execution_count": 185,
      "outputs": [
        {
          "output_type": "stream",
          "text": [
            "density 0.6657204718353074\n",
            "residual sugar 0.5381640961630233\n",
            "volatile acidity 0.19225994745411332\n",
            "pH 0.1500360058866863\n",
            "alcohol 0.1295334473979827\n",
            "fixed acidity 0.09782192229174835\n",
            "sulphates 0.06205336047703555\n",
            "free sulfur dioxide 0.04218044058626405\n",
            "total sulfur dioxide 0.014304022736369677\n",
            "chlorides 0.008127243529684174\n",
            "citric acid 0.00018322444870894072\n",
            "\n",
            "Ответ: density\n"
          ],
          "name": "stdout"
        }
      ]
    },
    {
      "metadata": {
        "id": "6mtU-02qnSah",
        "colab_type": "text"
      },
      "cell_type": "markdown",
      "source": [
        "## Lasso-регресссия"
      ]
    },
    {
      "metadata": {
        "id": "SlKh6JnOnSai",
        "colab_type": "text"
      },
      "cell_type": "markdown",
      "source": [
        "**Обучите Lasso-регрессию с небольшим коэффициентом α=0.01 (слабая регуляризация). Пусть опять random_state=17.**"
      ]
    },
    {
      "metadata": {
        "id": "gv6obE9FnSaj",
        "colab_type": "code",
        "colab": {
          "base_uri": "https://localhost:8080/",
          "height": 68
        },
        "outputId": "e403f577-c944-4444-bfbb-5a3ae773e2a9"
      },
      "cell_type": "code",
      "source": [
        "lasso1 = Lasso( alpha=0.01,  random_state=17 )\n",
        "lasso1.fit(X_train_scaled, y_train) "
      ],
      "execution_count": 186,
      "outputs": [
        {
          "output_type": "execute_result",
          "data": {
            "text/plain": [
              "Lasso(alpha=0.01, copy_X=True, fit_intercept=True, max_iter=1000,\n",
              "   normalize=False, positive=False, precompute=False, random_state=17,\n",
              "   selection='cyclic', tol=0.0001, warm_start=False)"
            ]
          },
          "metadata": {
            "tags": []
          },
          "execution_count": 186
        }
      ]
    },
    {
      "metadata": {
        "id": "OIwy1DYJnSam",
        "colab_type": "text"
      },
      "cell_type": "markdown",
      "source": [
        "**Посмотрите на коэффициенты модели и отранжируйте признаки по влиянию на качество вина. Какой признак \"отвалился\" первым, то есть наименее важен для объяснения целевого признака в модели Lasso?**"
      ]
    },
    {
      "metadata": {
        "id": "EAizFVSm8G98",
        "colab_type": "code",
        "colab": {
          "base_uri": "https://localhost:8080/",
          "height": 238
        },
        "outputId": "b486f3af-d490-4730-84b5-2e61f24012bf"
      },
      "cell_type": "code",
      "source": [
        "print_top_coeff( lasso1.coef_ , -1)"
      ],
      "execution_count": 187,
      "outputs": [
        {
          "output_type": "stream",
          "text": [
            "alcohol 0.32242504702545427\n",
            "residual sugar 0.2563628135082211\n",
            "density 0.2354918517265469\n",
            "volatile acidity 0.18847921541595028\n",
            "pH 0.06727654842362442\n",
            "free sulfur dioxide 0.043087618524916715\n",
            "sulphates 0.029721520382053737\n",
            "chlorides 0.002747319653577024\n",
            "total sulfur dioxide 0.0\n",
            "citric acid 0.0\n",
            "fixed acidity 0.0\n",
            "\n",
            "Ответ: fixed acidity\n"
          ],
          "name": "stdout"
        }
      ]
    },
    {
      "metadata": {
        "id": "51QFEkRjnSar",
        "colab_type": "text"
      },
      "cell_type": "markdown",
      "source": [
        "**Теперь определите лучшее значение α в процессе кросс-валидации 5-кратной кросс-валидации. Используйте LassoCV и random_state=17.**"
      ]
    },
    {
      "metadata": {
        "id": "7M3D0vAwnSat",
        "colab_type": "code",
        "colab": {
          "base_uri": "https://localhost:8080/",
          "height": 102
        },
        "outputId": "026d65f4-9bcd-4839-c7bd-eebf7c50f59b"
      },
      "cell_type": "code",
      "source": [
        "alphas = np.logspace(-6, 2, 200)\n",
        "lasso_cv = LassoCV( alphas=alphas, cv=5, random_state=17)\n",
        "lasso_cv.fit(X_train_scaled, y_train) "
      ],
      "execution_count": 188,
      "outputs": [
        {
          "output_type": "execute_result",
          "data": {
            "text/plain": [
              "LassoCV(alphas=array([1.00000e-06, 1.09699e-06, ..., 9.11589e+01, 1.00000e+02]),\n",
              "    copy_X=True, cv=5, eps=0.001, fit_intercept=True, max_iter=1000,\n",
              "    n_alphas=100, n_jobs=1, normalize=False, positive=False,\n",
              "    precompute='auto', random_state=17, selection='cyclic', tol=0.0001,\n",
              "    verbose=False)"
            ]
          },
          "metadata": {
            "tags": []
          },
          "execution_count": 188
        }
      ]
    },
    {
      "metadata": {
        "id": "FtP_BFoRnSa0",
        "colab_type": "code",
        "colab": {
          "base_uri": "https://localhost:8080/",
          "height": 34
        },
        "outputId": "1d1e062e-4ef1-4039-ac21-e4fbcd6ebe37"
      },
      "cell_type": "code",
      "source": [
        "lasso_cv.alpha_"
      ],
      "execution_count": 189,
      "outputs": [
        {
          "output_type": "execute_result",
          "data": {
            "text/plain": [
              "0.0002833096101839324"
            ]
          },
          "metadata": {
            "tags": []
          },
          "execution_count": 189
        }
      ]
    },
    {
      "metadata": {
        "id": "XDnrs29qnSa3",
        "colab_type": "text"
      },
      "cell_type": "markdown",
      "source": [
        "**Выведите коэффициенты \"лучшего\" Lasso в порядке убывания влияния на качество вина. **<br>\n",
        "**<font color='red'>Вопрос 3:</font> Какой признак \"обнулился первым\" в настроенной модели LASSO?**"
      ]
    },
    {
      "metadata": {
        "id": "UIp3TD449I1V",
        "colab_type": "code",
        "colab": {
          "base_uri": "https://localhost:8080/",
          "height": 68
        },
        "outputId": "87cc9522-0390-4c74-85c5-1b86cbe977c9"
      },
      "cell_type": "code",
      "source": [
        "lasso1 = Lasso( alpha=lasso_cv.alpha_,  random_state=17 )\n",
        "lasso1.fit(X_train_scaled, y_train) "
      ],
      "execution_count": 190,
      "outputs": [
        {
          "output_type": "execute_result",
          "data": {
            "text/plain": [
              "Lasso(alpha=0.0002833096101839324, copy_X=True, fit_intercept=True,\n",
              "   max_iter=1000, normalize=False, positive=False, precompute=False,\n",
              "   random_state=17, selection='cyclic', tol=0.0001, warm_start=False)"
            ]
          },
          "metadata": {
            "tags": []
          },
          "execution_count": 190
        }
      ]
    },
    {
      "metadata": {
        "id": "SV_f7R-4GOOa",
        "colab_type": "code",
        "colab": {
          "base_uri": "https://localhost:8080/",
          "height": 238
        },
        "outputId": "ec852f5e-ef9c-424b-dd11-30381114839d"
      },
      "cell_type": "code",
      "source": [
        "print_top_coeff(lasso1.coef_ , -1)"
      ],
      "execution_count": 191,
      "outputs": [
        {
          "output_type": "stream",
          "text": [
            "density 0.6481609673722674\n",
            "residual sugar 0.5268830668067311\n",
            "volatile acidity 0.19204855840369864\n",
            "pH 0.14654888754244963\n",
            "alcohol 0.137114781992208\n",
            "fixed acidity 0.09329523893868766\n",
            "sulphates 0.06093920359373391\n",
            "free sulfur dioxide 0.04269847076590106\n",
            "total sulfur dioxide 0.01296897671264232\n",
            "chlorides 0.006932920797374191\n",
            "citric acid 0.0\n",
            "\n",
            "Ответ: citric acid\n"
          ],
          "name": "stdout"
        }
      ]
    },
    {
      "metadata": {
        "id": "cgU5ymawnSa7",
        "colab_type": "text"
      },
      "cell_type": "markdown",
      "source": [
        "**Оцените среднеквадратичную ошибку модели на обучающей и тестовой выборках..**<br>\n",
        "**<font color='red'>Вопрос 4:</font> Каковы среднеквадратичные ошибки настроенной LASSO-регрессии на обучающей и отложенной выборках?**"
      ]
    },
    {
      "metadata": {
        "id": "luteqoiKnSa7",
        "colab_type": "code",
        "colab": {
          "base_uri": "https://localhost:8080/",
          "height": 51
        },
        "outputId": "82898528-5f02-4fa5-9be4-df1ad3b64027"
      },
      "cell_type": "code",
      "source": [
        "print(\"Mean squared error (train): %.3f\" % mean_squared_error(y_train, lasso1.predict(X_train_scaled) ))\n",
        "print(\"Mean squared error (test): %.3f\" % mean_squared_error(y_holdout, lasso1.predict(X_holdout_scaled) ))"
      ],
      "execution_count": 192,
      "outputs": [
        {
          "output_type": "stream",
          "text": [
            "Mean squared error (train): 0.558\n",
            "Mean squared error (test): 0.583\n"
          ],
          "name": "stdout"
        }
      ]
    },
    {
      "metadata": {
        "id": "Acz_mVq0nSa9",
        "colab_type": "text"
      },
      "cell_type": "markdown",
      "source": [
        "## Случайный лес"
      ]
    },
    {
      "metadata": {
        "id": "XKMXJeBsnSa-",
        "colab_type": "text"
      },
      "cell_type": "markdown",
      "source": [
        "**Обучите случайный лес с параметрами \"из коробки\", фиксируя только random_state=17.**"
      ]
    },
    {
      "metadata": {
        "id": "XBVdCf2HnSa-",
        "colab_type": "code",
        "colab": {
          "base_uri": "https://localhost:8080/",
          "height": 119
        },
        "outputId": "7cfdc781-b0da-412a-98b3-b83e03628078"
      },
      "cell_type": "code",
      "source": [
        "forest = RandomForestRegressor(random_state=17)\n",
        "forest.fit(X_train_scaled, y_train)"
      ],
      "execution_count": 193,
      "outputs": [
        {
          "output_type": "execute_result",
          "data": {
            "text/plain": [
              "RandomForestRegressor(bootstrap=True, criterion='mse', max_depth=None,\n",
              "           max_features='auto', max_leaf_nodes=None,\n",
              "           min_impurity_decrease=0.0, min_impurity_split=None,\n",
              "           min_samples_leaf=1, min_samples_split=2,\n",
              "           min_weight_fraction_leaf=0.0, n_estimators=10, n_jobs=1,\n",
              "           oob_score=False, random_state=17, verbose=0, warm_start=False)"
            ]
          },
          "metadata": {
            "tags": []
          },
          "execution_count": 193
        }
      ]
    },
    {
      "metadata": {
        "id": "6-EVb11QnSbA",
        "colab_type": "text"
      },
      "cell_type": "markdown",
      "source": [
        "**<font color='red'>Вопрос 5:</font>  Каковы среднеквадратичные ошибки случайного леса на обучающей выборке, на кросс-валидации (cross_val_score с scoring='neg_mean_squared_error' и остальными параметрами по умолчанию) и на отложенной выборке?**"
      ]
    },
    {
      "metadata": {
        "id": "xLP4IRxrnSbC",
        "colab_type": "code",
        "colab": {
          "base_uri": "https://localhost:8080/",
          "height": 68
        },
        "outputId": "f527fa9f-bfea-45b6-f2d7-024f6a0c61aa"
      },
      "cell_type": "code",
      "source": [
        "print(\"Mean squared error (train): %.3f\" % mean_squared_error(y_train, forest.predict(X_train_scaled)) )\n",
        "print(\"Mean squared error (cv): %.3f\" % np.abs(np.mean(cross_val_score(forest, X_train_scaled, \n",
        "                                                              y_train, scoring='neg_mean_squared_error'))))\n",
        "print(\"Mean squared error (test): %.3f\" % mean_squared_error(y_holdout, forest.predict(X_holdout_scaled) ))\n"
      ],
      "execution_count": 194,
      "outputs": [
        {
          "output_type": "stream",
          "text": [
            "Mean squared error (train): 0.075\n",
            "Mean squared error (cv): 0.460\n",
            "Mean squared error (test): 0.421\n"
          ],
          "name": "stdout"
        }
      ]
    },
    {
      "metadata": {
        "id": "hu0ESSE1nSbE",
        "colab_type": "text"
      },
      "cell_type": "markdown",
      "source": [
        "**Настройте параметры min_samples_leaf и max_depth с помощью GridSearchCV и опять проверьте качество модели на кросс-валидации и на отложенной выборке.**"
      ]
    },
    {
      "metadata": {
        "id": "0dQ_6DGSnSbF",
        "colab_type": "code",
        "colab": {
          "base_uri": "https://localhost:8080/",
          "height": 224
        },
        "outputId": "3d538d06-c9ff-4f24-f286-5d2596b23a7b"
      },
      "cell_type": "code",
      "source": [
        "forest_params = {'max_depth': list(range(10, 25)), \n",
        "                 'min_samples_leaf': list(range(1, 8)),\n",
        "                 'max_features': list(range(6,12))}\n",
        "\n",
        "locally_best_forest = GridSearchCV(forest, forest_params, n_jobs=-1 )\n",
        "locally_best_forest.fit(X_train_scaled, y_train)"
      ],
      "execution_count": 195,
      "outputs": [
        {
          "output_type": "execute_result",
          "data": {
            "text/plain": [
              "GridSearchCV(cv=None, error_score='raise',\n",
              "       estimator=RandomForestRegressor(bootstrap=True, criterion='mse', max_depth=None,\n",
              "           max_features='auto', max_leaf_nodes=None,\n",
              "           min_impurity_decrease=0.0, min_impurity_split=None,\n",
              "           min_samples_leaf=1, min_samples_split=2,\n",
              "           min_weight_fraction_leaf=0.0, n_estimators=10, n_jobs=1,\n",
              "           oob_score=False, random_state=17, verbose=0, warm_start=False),\n",
              "       fit_params=None, iid=True, n_jobs=-1,\n",
              "       param_grid={'max_depth': [10, 11, 12, 13, 14, 15, 16, 17, 18, 19, 20, 21, 22, 23, 24], 'min_samples_leaf': [1, 2, 3, 4, 5, 6, 7], 'max_features': [6, 7, 8, 9, 10, 11]},\n",
              "       pre_dispatch='2*n_jobs', refit=True, return_train_score='warn',\n",
              "       scoring=None, verbose=0)"
            ]
          },
          "metadata": {
            "tags": []
          },
          "execution_count": 195
        }
      ]
    },
    {
      "metadata": {
        "id": "9Grk_dY_nSbG",
        "colab_type": "code",
        "colab": {
          "base_uri": "https://localhost:8080/",
          "height": 51
        },
        "outputId": "ef438374-5f32-45c5-f4b4-96d0295d5c09"
      },
      "cell_type": "code",
      "source": [
        "locally_best_forest.best_params_, locally_best_forest.best_score_"
      ],
      "execution_count": 196,
      "outputs": [
        {
          "output_type": "execute_result",
          "data": {
            "text/plain": [
              "({'max_depth': 22, 'max_features': 7, 'min_samples_leaf': 1},\n",
              " 0.42345378900629316)"
            ]
          },
          "metadata": {
            "tags": []
          },
          "execution_count": 196
        }
      ]
    },
    {
      "metadata": {
        "id": "RfLFWq9tnSbJ",
        "colab_type": "text"
      },
      "cell_type": "markdown",
      "source": [
        "**К сожалению, результаты GridSearchCV не полностью воспроизводимы (могут отличаться на разных платформах даже при фиксировании random_state). Поэтому обучите лес с параметрами max_depth=19, max_features=7, и min_samples_leaf=1 (лучшие в моем случае).**<br>\n",
        "**<font color='red'>Вопрос 6:</font> Каковы среднеквадратичные ошибки настроенного случайного леса на обучающей выборке, на кросс-валидации (cross_val_score с scoring='neg_mean_squared_error') и на отложенной выборке?**"
      ]
    },
    {
      "metadata": {
        "id": "di5BXIMZnSbK",
        "colab_type": "code",
        "colab": {
          "base_uri": "https://localhost:8080/",
          "height": 119
        },
        "outputId": "ae3dc45d-bf19-4794-9576-659cea00a935"
      },
      "cell_type": "code",
      "source": [
        "forest = RandomForestRegressor(max_depth=19, max_features=7, min_samples_leaf=1, random_state=17)\n",
        "forest.fit(X_train_scaled, y_train)"
      ],
      "execution_count": 197,
      "outputs": [
        {
          "output_type": "execute_result",
          "data": {
            "text/plain": [
              "RandomForestRegressor(bootstrap=True, criterion='mse', max_depth=19,\n",
              "           max_features=7, max_leaf_nodes=None, min_impurity_decrease=0.0,\n",
              "           min_impurity_split=None, min_samples_leaf=1,\n",
              "           min_samples_split=2, min_weight_fraction_leaf=0.0,\n",
              "           n_estimators=10, n_jobs=1, oob_score=False, random_state=17,\n",
              "           verbose=0, warm_start=False)"
            ]
          },
          "metadata": {
            "tags": []
          },
          "execution_count": 197
        }
      ]
    },
    {
      "metadata": {
        "id": "llxahzEOnSbM",
        "colab_type": "code",
        "colab": {
          "base_uri": "https://localhost:8080/",
          "height": 51
        },
        "outputId": "1aa28688-5039-40cc-bb10-9abd6c350314"
      },
      "cell_type": "code",
      "source": [
        "print(\"Mean squared error (cv): %.3f\" % np.abs(np.mean(cross_val_score(forest, X_train_scaled, \n",
        "                                                              y_train, scoring='neg_mean_squared_error'))))\n",
        "print(\"Mean squared error (test): %.3f\" % mean_squared_error(y_holdout, forest.predict(X_holdout_scaled) ))"
      ],
      "execution_count": 198,
      "outputs": [
        {
          "output_type": "stream",
          "text": [
            "Mean squared error (cv): 0.457\n",
            "Mean squared error (test): 0.410\n"
          ],
          "name": "stdout"
        }
      ]
    },
    {
      "metadata": {
        "id": "vaWe7b9ZnSbO",
        "colab_type": "text"
      },
      "cell_type": "markdown",
      "source": [
        "**Оцените важность признаков с помощью случайного леса.**<br>\n",
        "**<font color='red'>Вопрос 7:</font> Какой признак оказался главным в настроенной модели случайного леса?**"
      ]
    },
    {
      "metadata": {
        "id": "MJTN-1dIEgN0",
        "colab_type": "code",
        "colab": {
          "base_uri": "https://localhost:8080/",
          "height": 238
        },
        "outputId": "8e525056-540c-4efd-866a-fa7c0229bdbb"
      },
      "cell_type": "code",
      "source": [
        "print_top_coeff( forest.feature_importances_ , 0)"
      ],
      "execution_count": 199,
      "outputs": [
        {
          "output_type": "stream",
          "text": [
            "alcohol 0.224431837517167\n",
            "volatile acidity 0.11939289880404694\n",
            "free sulfur dioxide 0.11614718944344686\n",
            "pH 0.07280565100192624\n",
            "total sulfur dioxide 0.07131778876323688\n",
            "residual sugar 0.07015969761778447\n",
            "density 0.06936694368363032\n",
            "chlorides 0.06798170918739124\n",
            "fixed acidity 0.0642679551222412\n",
            "citric acid 0.0629447776288302\n",
            "sulphates 0.061183551230298616\n",
            "\n",
            "Ответ: alcohol\n"
          ],
          "name": "stdout"
        }
      ]
    },
    {
      "metadata": {
        "id": "E8_0Kz9ZnSbR",
        "colab_type": "text"
      },
      "cell_type": "markdown",
      "source": [
        "**Сделайте выводы о качестве моделей и оценках влияния признаков на качество вина с помощью этих трех моделей.**"
      ]
    },
    {
      "metadata": {
        "id": "Mf15EEMrLM2r",
        "colab_type": "text"
      },
      "cell_type": "markdown",
      "source": [
        "В нашей текущей задаче Линейная и LASSO регресии получили практически идентичные результаты, единственное только вторая потребовала дополнительного подбора обощающего коэффициента, за счет чего стала менее предпочтительной для этой задани.\n",
        "Лучше всего справился случайный лес с решением, несмотря на то что ему так же пришлось проводить кросс-валидацию. Но зато мы получили решение, которое ошибается на 20 процентов меньше."
      ]
    },
    {
      "metadata": {
        "id": "gPmVFG7UG8IX",
        "colab_type": "text"
      },
      "cell_type": "markdown",
      "source": [
        "![alt text](https://pp.userapi.com/c831309/v831309216/151c5e/bKxOx3kI32I.jpg)"
      ]
    }
  ]
}