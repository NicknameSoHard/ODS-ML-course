{
  "nbformat": 4,
  "nbformat_minor": 0,
  "metadata": {
    "colab": {
      "name": "Additional task.ipynb",
      "version": "0.3.2",
      "provenance": [],
      "collapsed_sections": [],
      "include_colab_link": true
    },
    "kernelspec": {
      "name": "python3",
      "display_name": "Python 3"
    },
    "accelerator": "GPU"
  },
  "cells": [
    {
      "cell_type": "markdown",
      "metadata": {
        "id": "view-in-github",
        "colab_type": "text"
      },
      "source": [
        "[View in Colaboratory](https://colab.research.google.com/github/NicknameSoHard/Open_course_ML/blob/master/Additional_task_1.ipynb)"
      ]
    },
    {
      "metadata": {
        "id": "1Ns_g1E_zz17",
        "colab_type": "text"
      },
      "cell_type": "markdown",
      "source": [
        "Медиана - точка, которая делит выборку ровно на две части. То-есть ровно половина выборки больше этой точки, а вторая половина меньше. "
      ]
    },
    {
      "metadata": {
        "id": "3dXAd0Su3HDh",
        "colab_type": "text"
      },
      "cell_type": "markdown",
      "source": [
        "Проанализируем разницу данных при заполнении модой или рандомом"
      ]
    },
    {
      "metadata": {
        "id": "Z_ZlbFXm3vpz",
        "colab_type": "code",
        "colab": {}
      },
      "cell_type": "code",
      "source": [
        "import pandas as pd\n",
        "import seaborn as sns\n",
        "import numpy as np\n",
        "import matplotlib.pyplot as plt"
      ],
      "execution_count": 0,
      "outputs": []
    },
    {
      "metadata": {
        "id": "wpQ_-JW0zhW_",
        "colab_type": "code",
        "colab": {
          "base_uri": "https://localhost:8080/",
          "height": 224
        },
        "outputId": "8a2c8116-4ebf-48af-e226-f131856d12ef"
      },
      "cell_type": "code",
      "source": [
        "!wget https://raw.githubusercontent.com/Yorko/mlcourse_open/master/data/video_games_sales.csv -P drive/Open_course_ML  "
      ],
      "execution_count": 3,
      "outputs": [
        {
          "output_type": "stream",
          "text": [
            "--2018-07-27 13:16:52--  https://raw.githubusercontent.com/Yorko/mlcourse_open/master/data/video_games_sales.csv\r\n",
            "Resolving raw.githubusercontent.com (raw.githubusercontent.com)... 151.101.0.133, 151.101.64.133, 151.101.128.133, ...\n",
            "Connecting to raw.githubusercontent.com (raw.githubusercontent.com)|151.101.0.133|:443... connected.\n",
            "HTTP request sent, awaiting response... 200 OK\n",
            "Length: 1618040 (1.5M) [text/plain]\n",
            "Saving to: ‘drive/Open_course_ML/video_games_sales.csv’\n",
            "\n",
            "video_games_sales.c 100%[===================>]   1.54M  --.-KB/s    in 0.1s    \n",
            "\n",
            "2018-07-27 13:16:52 (14.9 MB/s) - ‘drive/Open_course_ML/video_games_sales.csv’ saved [1618040/1618040]\n",
            "\n"
          ],
          "name": "stdout"
        }
      ]
    },
    {
      "metadata": {
        "id": "Ld8sU0vL5Thn",
        "colab_type": "code",
        "colab": {}
      },
      "cell_type": "code",
      "source": [
        "data = pd.read_csv('drive/Open_course_ML/video_games_sales.csv') "
      ],
      "execution_count": 0,
      "outputs": []
    },
    {
      "metadata": {
        "id": "kGyB0xXlAWlm",
        "colab_type": "code",
        "colab": {
          "base_uri": "https://localhost:8080/",
          "height": 545
        },
        "outputId": "81ffa573-a904-4661-c581-b01685fbd4de"
      },
      "cell_type": "code",
      "source": [
        "data.head(10).T"
      ],
      "execution_count": 5,
      "outputs": [
        {
          "output_type": "execute_result",
          "data": {
            "text/html": [
              "<div>\n",
              "<style scoped>\n",
              "    .dataframe tbody tr th:only-of-type {\n",
              "        vertical-align: middle;\n",
              "    }\n",
              "\n",
              "    .dataframe tbody tr th {\n",
              "        vertical-align: top;\n",
              "    }\n",
              "\n",
              "    .dataframe thead th {\n",
              "        text-align: right;\n",
              "    }\n",
              "</style>\n",
              "<table border=\"1\" class=\"dataframe\">\n",
              "  <thead>\n",
              "    <tr style=\"text-align: right;\">\n",
              "      <th></th>\n",
              "      <th>0</th>\n",
              "      <th>1</th>\n",
              "      <th>2</th>\n",
              "      <th>3</th>\n",
              "      <th>4</th>\n",
              "      <th>5</th>\n",
              "      <th>6</th>\n",
              "      <th>7</th>\n",
              "      <th>8</th>\n",
              "      <th>9</th>\n",
              "    </tr>\n",
              "  </thead>\n",
              "  <tbody>\n",
              "    <tr>\n",
              "      <th>Name</th>\n",
              "      <td>Wii Sports</td>\n",
              "      <td>Super Mario Bros.</td>\n",
              "      <td>Mario Kart Wii</td>\n",
              "      <td>Wii Sports Resort</td>\n",
              "      <td>Pokemon Red/Pokemon Blue</td>\n",
              "      <td>Tetris</td>\n",
              "      <td>New Super Mario Bros.</td>\n",
              "      <td>Wii Play</td>\n",
              "      <td>New Super Mario Bros. Wii</td>\n",
              "      <td>Duck Hunt</td>\n",
              "    </tr>\n",
              "    <tr>\n",
              "      <th>Platform</th>\n",
              "      <td>Wii</td>\n",
              "      <td>NES</td>\n",
              "      <td>Wii</td>\n",
              "      <td>Wii</td>\n",
              "      <td>GB</td>\n",
              "      <td>GB</td>\n",
              "      <td>DS</td>\n",
              "      <td>Wii</td>\n",
              "      <td>Wii</td>\n",
              "      <td>NES</td>\n",
              "    </tr>\n",
              "    <tr>\n",
              "      <th>Year_of_Release</th>\n",
              "      <td>2006</td>\n",
              "      <td>1985</td>\n",
              "      <td>2008</td>\n",
              "      <td>2009</td>\n",
              "      <td>1996</td>\n",
              "      <td>1989</td>\n",
              "      <td>2006</td>\n",
              "      <td>2006</td>\n",
              "      <td>2009</td>\n",
              "      <td>1984</td>\n",
              "    </tr>\n",
              "    <tr>\n",
              "      <th>Genre</th>\n",
              "      <td>Sports</td>\n",
              "      <td>Platform</td>\n",
              "      <td>Racing</td>\n",
              "      <td>Sports</td>\n",
              "      <td>Role-Playing</td>\n",
              "      <td>Puzzle</td>\n",
              "      <td>Platform</td>\n",
              "      <td>Misc</td>\n",
              "      <td>Platform</td>\n",
              "      <td>Shooter</td>\n",
              "    </tr>\n",
              "    <tr>\n",
              "      <th>Publisher</th>\n",
              "      <td>Nintendo</td>\n",
              "      <td>Nintendo</td>\n",
              "      <td>Nintendo</td>\n",
              "      <td>Nintendo</td>\n",
              "      <td>Nintendo</td>\n",
              "      <td>Nintendo</td>\n",
              "      <td>Nintendo</td>\n",
              "      <td>Nintendo</td>\n",
              "      <td>Nintendo</td>\n",
              "      <td>Nintendo</td>\n",
              "    </tr>\n",
              "    <tr>\n",
              "      <th>NA_Sales</th>\n",
              "      <td>41.36</td>\n",
              "      <td>29.08</td>\n",
              "      <td>15.68</td>\n",
              "      <td>15.61</td>\n",
              "      <td>11.27</td>\n",
              "      <td>23.2</td>\n",
              "      <td>11.28</td>\n",
              "      <td>13.96</td>\n",
              "      <td>14.44</td>\n",
              "      <td>26.93</td>\n",
              "    </tr>\n",
              "    <tr>\n",
              "      <th>EU_Sales</th>\n",
              "      <td>28.96</td>\n",
              "      <td>3.58</td>\n",
              "      <td>12.76</td>\n",
              "      <td>10.93</td>\n",
              "      <td>8.89</td>\n",
              "      <td>2.26</td>\n",
              "      <td>9.14</td>\n",
              "      <td>9.18</td>\n",
              "      <td>6.94</td>\n",
              "      <td>0.63</td>\n",
              "    </tr>\n",
              "    <tr>\n",
              "      <th>JP_Sales</th>\n",
              "      <td>3.77</td>\n",
              "      <td>6.81</td>\n",
              "      <td>3.79</td>\n",
              "      <td>3.28</td>\n",
              "      <td>10.22</td>\n",
              "      <td>4.22</td>\n",
              "      <td>6.5</td>\n",
              "      <td>2.93</td>\n",
              "      <td>4.7</td>\n",
              "      <td>0.28</td>\n",
              "    </tr>\n",
              "    <tr>\n",
              "      <th>Other_Sales</th>\n",
              "      <td>8.45</td>\n",
              "      <td>0.77</td>\n",
              "      <td>3.29</td>\n",
              "      <td>2.95</td>\n",
              "      <td>1</td>\n",
              "      <td>0.58</td>\n",
              "      <td>2.88</td>\n",
              "      <td>2.84</td>\n",
              "      <td>2.24</td>\n",
              "      <td>0.47</td>\n",
              "    </tr>\n",
              "    <tr>\n",
              "      <th>Global_Sales</th>\n",
              "      <td>82.53</td>\n",
              "      <td>40.24</td>\n",
              "      <td>35.52</td>\n",
              "      <td>32.77</td>\n",
              "      <td>31.37</td>\n",
              "      <td>30.26</td>\n",
              "      <td>29.8</td>\n",
              "      <td>28.92</td>\n",
              "      <td>28.32</td>\n",
              "      <td>28.31</td>\n",
              "    </tr>\n",
              "    <tr>\n",
              "      <th>Critic_Score</th>\n",
              "      <td>76</td>\n",
              "      <td>NaN</td>\n",
              "      <td>82</td>\n",
              "      <td>80</td>\n",
              "      <td>NaN</td>\n",
              "      <td>NaN</td>\n",
              "      <td>89</td>\n",
              "      <td>58</td>\n",
              "      <td>87</td>\n",
              "      <td>NaN</td>\n",
              "    </tr>\n",
              "    <tr>\n",
              "      <th>Critic_Count</th>\n",
              "      <td>51</td>\n",
              "      <td>NaN</td>\n",
              "      <td>73</td>\n",
              "      <td>73</td>\n",
              "      <td>NaN</td>\n",
              "      <td>NaN</td>\n",
              "      <td>65</td>\n",
              "      <td>41</td>\n",
              "      <td>80</td>\n",
              "      <td>NaN</td>\n",
              "    </tr>\n",
              "    <tr>\n",
              "      <th>User_Score</th>\n",
              "      <td>8</td>\n",
              "      <td>NaN</td>\n",
              "      <td>8.3</td>\n",
              "      <td>8</td>\n",
              "      <td>NaN</td>\n",
              "      <td>NaN</td>\n",
              "      <td>8.5</td>\n",
              "      <td>6.6</td>\n",
              "      <td>8.4</td>\n",
              "      <td>NaN</td>\n",
              "    </tr>\n",
              "    <tr>\n",
              "      <th>User_Count</th>\n",
              "      <td>322</td>\n",
              "      <td>NaN</td>\n",
              "      <td>709</td>\n",
              "      <td>192</td>\n",
              "      <td>NaN</td>\n",
              "      <td>NaN</td>\n",
              "      <td>431</td>\n",
              "      <td>129</td>\n",
              "      <td>594</td>\n",
              "      <td>NaN</td>\n",
              "    </tr>\n",
              "    <tr>\n",
              "      <th>Developer</th>\n",
              "      <td>Nintendo</td>\n",
              "      <td>NaN</td>\n",
              "      <td>Nintendo</td>\n",
              "      <td>Nintendo</td>\n",
              "      <td>NaN</td>\n",
              "      <td>NaN</td>\n",
              "      <td>Nintendo</td>\n",
              "      <td>Nintendo</td>\n",
              "      <td>Nintendo</td>\n",
              "      <td>NaN</td>\n",
              "    </tr>\n",
              "    <tr>\n",
              "      <th>Rating</th>\n",
              "      <td>E</td>\n",
              "      <td>NaN</td>\n",
              "      <td>E</td>\n",
              "      <td>E</td>\n",
              "      <td>NaN</td>\n",
              "      <td>NaN</td>\n",
              "      <td>E</td>\n",
              "      <td>E</td>\n",
              "      <td>E</td>\n",
              "      <td>NaN</td>\n",
              "    </tr>\n",
              "  </tbody>\n",
              "</table>\n",
              "</div>"
            ],
            "text/plain": [
              "                          0                  1               2  \\\n",
              "Name             Wii Sports  Super Mario Bros.  Mario Kart Wii   \n",
              "Platform                Wii                NES             Wii   \n",
              "Year_of_Release        2006               1985            2008   \n",
              "Genre                Sports           Platform          Racing   \n",
              "Publisher          Nintendo           Nintendo        Nintendo   \n",
              "NA_Sales              41.36              29.08           15.68   \n",
              "EU_Sales              28.96               3.58           12.76   \n",
              "JP_Sales               3.77               6.81            3.79   \n",
              "Other_Sales            8.45               0.77            3.29   \n",
              "Global_Sales          82.53              40.24           35.52   \n",
              "Critic_Score             76                NaN              82   \n",
              "Critic_Count             51                NaN              73   \n",
              "User_Score                8                NaN             8.3   \n",
              "User_Count              322                NaN             709   \n",
              "Developer          Nintendo                NaN        Nintendo   \n",
              "Rating                    E                NaN               E   \n",
              "\n",
              "                                 3                         4         5  \\\n",
              "Name             Wii Sports Resort  Pokemon Red/Pokemon Blue    Tetris   \n",
              "Platform                       Wii                        GB        GB   \n",
              "Year_of_Release               2009                      1996      1989   \n",
              "Genre                       Sports              Role-Playing    Puzzle   \n",
              "Publisher                 Nintendo                  Nintendo  Nintendo   \n",
              "NA_Sales                     15.61                     11.27      23.2   \n",
              "EU_Sales                     10.93                      8.89      2.26   \n",
              "JP_Sales                      3.28                     10.22      4.22   \n",
              "Other_Sales                   2.95                         1      0.58   \n",
              "Global_Sales                 32.77                     31.37     30.26   \n",
              "Critic_Score                    80                       NaN       NaN   \n",
              "Critic_Count                    73                       NaN       NaN   \n",
              "User_Score                       8                       NaN       NaN   \n",
              "User_Count                     192                       NaN       NaN   \n",
              "Developer                 Nintendo                       NaN       NaN   \n",
              "Rating                           E                       NaN       NaN   \n",
              "\n",
              "                                     6         7                          8  \\\n",
              "Name             New Super Mario Bros.  Wii Play  New Super Mario Bros. Wii   \n",
              "Platform                            DS       Wii                        Wii   \n",
              "Year_of_Release                   2006      2006                       2009   \n",
              "Genre                         Platform      Misc                   Platform   \n",
              "Publisher                     Nintendo  Nintendo                   Nintendo   \n",
              "NA_Sales                         11.28     13.96                      14.44   \n",
              "EU_Sales                          9.14      9.18                       6.94   \n",
              "JP_Sales                           6.5      2.93                        4.7   \n",
              "Other_Sales                       2.88      2.84                       2.24   \n",
              "Global_Sales                      29.8     28.92                      28.32   \n",
              "Critic_Score                        89        58                         87   \n",
              "Critic_Count                        65        41                         80   \n",
              "User_Score                         8.5       6.6                        8.4   \n",
              "User_Count                         431       129                        594   \n",
              "Developer                     Nintendo  Nintendo                   Nintendo   \n",
              "Rating                               E         E                          E   \n",
              "\n",
              "                         9  \n",
              "Name             Duck Hunt  \n",
              "Platform               NES  \n",
              "Year_of_Release       1984  \n",
              "Genre              Shooter  \n",
              "Publisher         Nintendo  \n",
              "NA_Sales             26.93  \n",
              "EU_Sales              0.63  \n",
              "JP_Sales              0.28  \n",
              "Other_Sales           0.47  \n",
              "Global_Sales         28.31  \n",
              "Critic_Score           NaN  \n",
              "Critic_Count           NaN  \n",
              "User_Score             NaN  \n",
              "User_Count             NaN  \n",
              "Developer              NaN  \n",
              "Rating                 NaN  "
            ]
          },
          "metadata": {
            "tags": []
          },
          "execution_count": 5
        }
      ]
    },
    {
      "metadata": {
        "id": "E2e5O-gJtJRH",
        "colab_type": "code",
        "colab": {
          "base_uri": "https://localhost:8080/",
          "height": 374
        },
        "outputId": "71416699-0381-4605-871c-ed12e765fdb6"
      },
      "cell_type": "code",
      "source": [
        "top_Publisher = data['Publisher'].value_counts(dropna = False).index[:45]\n",
        "data_for_test = data[ data['Publisher'].isin(top_Publisher) ]\n",
        "\n",
        "data_for_test.info()"
      ],
      "execution_count": 49,
      "outputs": [
        {
          "output_type": "stream",
          "text": [
            "<class 'pandas.core.frame.DataFrame'>\n",
            "Int64Index: 13238 entries, 0 to 16718\n",
            "Data columns (total 16 columns):\n",
            "Name               13236 non-null object\n",
            "Platform           13238 non-null object\n",
            "Year_of_Release    12992 non-null float64\n",
            "Genre              13236 non-null object\n",
            "Publisher          13184 non-null object\n",
            "NA_Sales           13238 non-null float64\n",
            "EU_Sales           13238 non-null float64\n",
            "JP_Sales           13238 non-null float64\n",
            "Other_Sales        13238 non-null float64\n",
            "Global_Sales       13238 non-null float64\n",
            "Critic_Score       7089 non-null float64\n",
            "Critic_Count       7089 non-null float64\n",
            "User_Score         8427 non-null object\n",
            "User_Count         6670 non-null float64\n",
            "Developer          8480 non-null object\n",
            "Rating             8408 non-null object\n",
            "dtypes: float64(9), object(7)\n",
            "memory usage: 1.7+ MB\n"
          ],
          "name": "stdout"
        }
      ]
    },
    {
      "metadata": {
        "id": "e7YpQwse-uPf",
        "colab_type": "text"
      },
      "cell_type": "markdown",
      "source": [
        "**Попробуем посмотрит распределение признаков с пропусками.**"
      ]
    },
    {
      "metadata": {
        "id": "bEg4CGXX5ZJG",
        "colab_type": "code",
        "colab": {}
      },
      "cell_type": "code",
      "source": [
        "without_NA = data_for_test.copy().dropna()\n",
        "#sns.boxplot( y='Publisher', x='Global_Sales', data=data_for_test, orient=\"h\" )\n",
        "#standard_dist = sns.distplot(data_for_test.dropna().Year_of_Release)"
      ],
      "execution_count": 0,
      "outputs": []
    },
    {
      "metadata": {
        "id": "2skbXthNRjKo",
        "colab_type": "text"
      },
      "cell_type": "markdown",
      "source": [
        "**Заполним пропуски средним**"
      ]
    },
    {
      "metadata": {
        "id": "8537jwtSNpCj",
        "colab_type": "code",
        "colab": {}
      },
      "cell_type": "code",
      "source": [
        "fill_mean = data_for_test.copy()\n",
        "fill_mean['Year_of_Release'] = fill_mean['Year_of_Release'].fillna( fill_mean['Year_of_Release'].mean() )\n",
        "\n",
        "#mean_dist = sns.distplot( fill_mean.Year_of_Release)"
      ],
      "execution_count": 0,
      "outputs": []
    },
    {
      "metadata": {
        "id": "H81_-D9YNpd5",
        "colab_type": "text"
      },
      "cell_type": "markdown",
      "source": [
        "**Заполним пропуски медианой**"
      ]
    },
    {
      "metadata": {
        "id": "r-omxQaBNncl",
        "colab_type": "code",
        "colab": {}
      },
      "cell_type": "code",
      "source": [
        "fill_median = data_for_test.copy()\n",
        "fill_median['Year_of_Release'] = fill_median['Year_of_Release'].fillna( fill_median['Year_of_Release'].median() )\n",
        "\n",
        "#sns.boxplot( y='Publisher', x='Critic_Score', data=fill_mode, orient=\"h\" )\n",
        "#fill_mode_dist = sns.distplot( fill_mode.Year_of_Release )"
      ],
      "execution_count": 0,
      "outputs": []
    },
    {
      "metadata": {
        "id": "1osaQywtU_98",
        "colab_type": "text"
      },
      "cell_type": "markdown",
      "source": [
        "**Заполним пропуски рандомом**"
      ]
    },
    {
      "metadata": {
        "id": "0uZ7g6MnIVhe",
        "colab_type": "code",
        "colab": {}
      },
      "cell_type": "code",
      "source": [
        "fill_random = data_for_test.copy()\n",
        "\n",
        "random_stuff = []\n",
        "index_names = fill_random.Year_of_Release.value_counts().index\n",
        "for cl in fill_random.Year_of_Release:\n",
        "  if pd.isna(cl):\n",
        "    random_stuff.append( index_names[np.random.randint(0,index_names.size)] )\n",
        "  else:\n",
        "    random_stuff.append(cl)\n",
        "    \n",
        "fill_random['Year_of_Release'] = random_stuff\n",
        "\n",
        "#sns.boxplot( y='Publisher', x='Critic_Score', data=fill_random, orient=\"h\" )\n",
        "#fill_random_dist = sns.distplot(fill_random.Year_of_Release)"
      ],
      "execution_count": 0,
      "outputs": []
    },
    {
      "metadata": {
        "id": "qULeF3WEA3ES",
        "colab_type": "text"
      },
      "cell_type": "markdown",
      "source": [
        "**Подведем итог**"
      ]
    },
    {
      "metadata": {
        "id": "FXAsgTD9A2Vf",
        "colab_type": "code",
        "colab": {
          "base_uri": "https://localhost:8080/",
          "height": 858
        },
        "outputId": "7ff70b25-fe0b-4e29-8d03-8274524cbb8b"
      },
      "cell_type": "code",
      "source": [
        "f, (fill_random_dist, fill_mean_dist, fill_median_dist, standard_dist) = plt.subplots(4, 1, sharex='all', figsize= (20,14)  )\n",
        "\n",
        "sns.distplot( fill_random.Year_of_Release, ax = fill_random_dist )\n",
        "fill_random_dist.set_title('Заполненые рандомом пропуски в данных')\n",
        "fill_random_dist.set_xlabel('')\n",
        "\n",
        "sns.distplot( fill_mean.Year_of_Release, ax = fill_mean_dist )\n",
        "fill_mean_dist.set_title('Заполненые средним значением пропуски в данных')\n",
        "fill_mean_dist.set_xlabel('')\n",
        "\n",
        "sns.distplot( fill_median.Year_of_Release, ax = fill_median_dist )\n",
        "fill_median_dist.set_title('Заполненые медианой пропуски в данных')\n",
        "fill_median_dist.set_xlabel('')\n",
        "\n",
        "sns.distplot( without_NA.Year_of_Release, ax = standard_dist )\n",
        "standard_dist.set_title('Распределение с исключенными пропусками')\n",
        "standard_dist.set_xlabel('Года')\n",
        "\n",
        "#plt.xticks( fill_median_dist.get_xticks()  )  #np.arange(fill_median_dist., 2030, 5) )\n",
        "\n",
        "\n",
        "plt.show()"
      ],
      "execution_count": 59,
      "outputs": [
        {
          "output_type": "display_data",
          "data": {
            "image/png": "[encoded data removed]",
            "text/plain": [
              "<matplotlib.figure.Figure at 0x7f13c373c390>"
            ]
          },
          "metadata": {
            "tags": []
          }
        }
      ]
    },
    {
      "metadata": {
        "id": "kCCWEFFV8r-7",
        "colab_type": "code",
        "colab": {
          "base_uri": "https://localhost:8080/",
          "height": 34
        },
        "outputId": "ddf542d3-d17f-4ac2-fcea-a0399c560fda"
      },
      "cell_type": "code",
      "source": [
        "fill_median_dist.get_xticks()"
      ],
      "execution_count": 31,
      "outputs": [
        {
          "output_type": "execute_result",
          "data": {
            "text/plain": [
              "array([0.  , 0.02, 0.04, 0.06, 0.08, 0.1 , 0.12, 0.14])"
            ]
          },
          "metadata": {
            "tags": []
          },
          "execution_count": 31
        }
      ]
    },
    {
      "metadata": {
        "id": "eHH8LwciiuSi",
        "colab_type": "text"
      },
      "cell_type": "markdown",
      "source": [
        "Как я понимаю, лучше всего в случаях пропусков заменять их медианой,  так как тогда мы получаем полную картину распределения и точно знаем, что искажен только один конкретный признак, соответствующий медиане и самой высокой точке на нашей вероятности. То-есть полезной информации мы теряем незначительно.\n",
        "\n",
        "В случае с заменой на среднее значение, ситуация очень похожа (а на этих конкретных данных аналогичная), но  среднее значение столбца не обязательно может соответствовать самой высокой части графика распределений и из за этого могут возникать ошибки в оценке общей картины.\n",
        "\n",
        "Замена случайными значениями тут тоже дало такую же почти картину, но если пропусков будет больше, то распределение будет все более и более искажаться и вскоре уже перестанет соответствовать реальному, так что это рискованно и стоит применять в подобных этому случаях где пропусков не так уж много."
      ]
    }
  ]
}